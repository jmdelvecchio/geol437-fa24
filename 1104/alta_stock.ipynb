{
 "cells": [
  {
   "cell_type": "markdown",
   "metadata": {},
   "source": [
    "# I do my own modeling"
   ]
  },
  {
   "cell_type": "markdown",
   "metadata": {},
   "source": [
    "Your task: adapt the example FTCS problem to approximate the conditions at the Atla Stock at the time of emplacement (I'm looking at Figure 3 in Cook and Bowman 1994). You will need to change the units and dimensions of the problem to represent the physical system. Think about the following aspects:\n",
    "- What kind of thermal conditions existed in the system prior to emplacement? What is a good thermal conductivity?\n",
    "- What are the boundary conditions for a system like this? How big is your model and what boundaries are you setting?\n",
    "- What role does time play in this problem? What are your time units, what is a useful timestep, and how long will it take the system to fit the temperature profile implied by the data? "
   ]
  },
  {
   "cell_type": "code",
   "execution_count": 1,
   "metadata": {},
   "outputs": [],
   "source": [
    "# Your code here"
   ]
  },
  {
   "cell_type": "markdown",
   "metadata": {},
   "source": [
    "![we're all counting on you](https://media1.tenor.com/m/WKI35n1BrRcAAAAC/opentext-mdr.gif)"
   ]
  }
 ],
 "metadata": {
  "kernelspec": {
   "display_name": "geobasic",
   "language": "python",
   "name": "python3"
  },
  "language_info": {
   "codemirror_mode": {
    "name": "ipython",
    "version": 3
   },
   "file_extension": ".py",
   "mimetype": "text/x-python",
   "name": "python",
   "nbconvert_exporter": "python",
   "pygments_lexer": "ipython3",
   "version": "3.9.7"
  }
 },
 "nbformat": 4,
 "nbformat_minor": 2
}
