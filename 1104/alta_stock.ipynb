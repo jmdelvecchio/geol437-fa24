{
 "cells": [
  {
   "cell_type": "markdown",
   "metadata": {},
   "source": [
    "# Jump into the time machine"
   ]
  },
  {
   "cell_type": "markdown",
   "metadata": {},
   "source": [
    "It's fall of 2014. Joanmarie has just declared a Geology major even though she is a senior, so she's in Mineralogy, Structural Geology, and Physical Volcanology, the latter of which is being taught as a series of computer-based labs in [COMSOL](https://en.wikipedia.org/wiki/COMSOL_Multiphysics). She is trying to get a modeled dike to intrude into some rock or something and is struggling at midnight in the computer lab. She hates computers, she hates modeling. Never will she touch a computer ever again to complete a geologic task. "
   ]
  },
  {
   "cell_type": "markdown",
   "metadata": {},
   "source": [
    "# Fast forward a decade."
   ]
  },
  {
   "cell_type": "markdown",
   "metadata": {},
   "source": [
    "Now I am teaching a class called \"Computers and Geology.\" Oops.\n",
    "\n",
    "So I call this assignment \"Revenge of the Dike Intrusion Problem,\" but it's also a story of hope and perserverence because here I am and so can you!"
   ]
  },
  {
   "cell_type": "markdown",
   "metadata": {},
   "source": [
    "# I do my own modeling"
   ]
  },
  {
   "cell_type": "markdown",
   "metadata": {},
   "source": [
    "Your task: adapt the example FTCS problem to approximate the conditions at the Atla Stock at the time of emplacement (I'm looking at Figure 3 in Cook and Bowman 1994). You will need to change the units and dimensions of the problem to represent the physical system. Think about the following aspects:\n",
    "- What kind of thermal conditions existed in the system prior to emplacement? What is a good thermal conductivity?\n",
    "- What are the boundary conditions for a system like this? How big is your model and what boundaries are you setting?\n",
    "- What role does time play in this problem? What are your time units, what is a useful timestep, and how long will it take the system to fit the temperature profile implied by the data? "
   ]
  },
  {
   "cell_type": "code",
   "execution_count": 1,
   "metadata": {},
   "outputs": [],
   "source": [
    "# Your code here"
   ]
  },
  {
   "cell_type": "markdown",
   "metadata": {},
   "source": [
    "![we're all counting on you](https://media1.tenor.com/m/WKI35n1BrRcAAAAC/opentext-mdr.gif)"
   ]
  }
 ],
 "metadata": {
  "kernelspec": {
   "display_name": "geobasic",
   "language": "python",
   "name": "python3"
  },
  "language_info": {
   "codemirror_mode": {
    "name": "ipython",
    "version": 3
   },
   "file_extension": ".py",
   "mimetype": "text/x-python",
   "name": "python",
   "nbconvert_exporter": "python",
   "pygments_lexer": "ipython3",
   "version": "3.9.7"
  }
 },
 "nbformat": 4,
 "nbformat_minor": 2
}
