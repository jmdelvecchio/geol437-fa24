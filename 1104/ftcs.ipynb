{
 "cells": [
  {
   "cell_type": "markdown",
   "metadata": {},
   "source": [
    "# Forward models: the gentlest(?) introduction"
   ]
  },
  {
   "cell_type": "markdown",
   "metadata": {},
   "source": [
    "Oh, is this Joanmarie trying to teach a multi-week concept in a grad-level math modeling class at Penn State taught by [Richard Alley](https://en.wikipedia.org/wiki/Richard_Alley) in a class formulated by the people who wrote the [\"New Testament of geoscience modeling\"](https://press.princeton.edu/books/paperback/9780691145143/mathematical-modeling-of-earths-dynamical-systems?srsltid=AfmBOormuecRHM6CDKLfYHT5u2vGRxKmrBJz6M5fk0I9CrGtAg3VB7x3)? It is, so it's OK if this part feels like a lot, because it is. I'd prefer to lecture on this first before you tried to write your own code, but this class is flipped, so I'll do my best (but I also think you got this!!)"
   ]
  },
  {
   "cell_type": "markdown",
   "metadata": {},
   "source": [
    "# Why??"
   ]
  },
  {
   "cell_type": "markdown",
   "metadata": {},
   "source": [
    "I'm going to show you how to solve a diffusion model explicitly because (1) conceptually I think it's super easy and (2) so many things in the Earth system can be represented by the diffusion equation. The CliffNotes verion of how/why the forward in time, centered in space (FTCS) scheme works is that, at every timestep, you go through your model domain and basically <i>find the average value of your quantity (heat, water, sediment) on either side of your current node</i>, and <i>do that over and over again until it stops changing</i>. In this system the flow of information acts just like the flow of matter or energy that you're modeling, which is why I think (hope?) it is conceptually one of the easier ways to be introduced to modeling (no Jacobians for you yet, young padawan)."
   ]
  },
  {
   "cell_type": "markdown",
   "metadata": {},
   "source": [
    "# OK??"
   ]
  },
  {
   "cell_type": "markdown",
   "metadata": {},
   "source": [
    "The following lesson is derived from the [FTCS scheme](https://primer-computational-mathematics.github.io/book/c_mathematics/numerical_methods/7_FTCS.html0) lesson from the [Department of Earth Science and Engineering, Imperial College London’s Primer on Programming in Python and Mathematical/Computational Techniques for Scientists and Engineers](primer-computational-mathematics.github.io). Read that article and click on the links. If you'd like a more in-depth explainer you can read Slingerland and Kump Chapter 2. I also found this nice [YouTube video](https://www.youtube.com/watch?v=ToIXSwZ1pJU) for how to solve the heat equation analytically. "
   ]
  },
  {
   "cell_type": "code",
   "execution_count": 1,
   "metadata": {},
   "outputs": [],
   "source": [
    "import numpy as np\n",
    "import matplotlib.pyplot as plt\n"
   ]
  },
  {
   "cell_type": "markdown",
   "metadata": {},
   "source": [
    "# Setup"
   ]
  },
  {
   "cell_type": "code",
   "execution_count": null,
   "metadata": {},
   "outputs": [],
   "source": [
    "n = 101\n",
    "\n",
    "T_old = np.zeros(n)\n",
    "T_new = np.zeros(n)\n",
    "\n",
    "for i in range(1,n-1):\n",
    "    T_old[i] = 100.\n",
    "\n",
    "l = 1\n",
    "dx = l/(n-1)\n",
    "x = np.linspace(0,l,n)\n",
    "print(\"dx = %.2f\" % dx)\n"
   ]
  },
  {
   "cell_type": "markdown",
   "metadata": {},
   "source": [
    "In your own words, explain what is happening in the above code. "
   ]
  },
  {
   "cell_type": "markdown",
   "metadata": {},
   "source": [
    "<i>Your text here</i>"
   ]
  },
  {
   "cell_type": "code",
   "execution_count": null,
   "metadata": {},
   "outputs": [],
   "source": [
    "# What is k?\n",
    "k = 0.01\n",
    "\n",
    "dt_max = dx**2/(2*k)\n",
    "dt = 0.2 * dt_max\n",
    "\n",
    "print(\"Maximum dt = %.4f.\" % dt_max)\n",
    "print(\"Used dt = %.4f.\" % dt)"
   ]
  },
  {
   "cell_type": "markdown",
   "metadata": {},
   "source": [
    "In your own words, explain what is happening in the above code. "
   ]
  },
  {
   "cell_type": "markdown",
   "metadata": {},
   "source": [
    "<i>Your text here</i>"
   ]
  },
  {
   "cell_type": "markdown",
   "metadata": {},
   "source": [
    "# Run the model"
   ]
  },
  {
   "cell_type": "code",
   "execution_count": null,
   "metadata": {},
   "outputs": [],
   "source": [
    "count = 0\n",
    "count2 = 0\n",
    "colors = plt.cm.seismic_r(np.linspace(0,1,10))\n",
    "\n",
    "while T_old[int(n/2)]>50.0:\n",
    "    \n",
    "    # Step 1\n",
    "    for i in range(1,n-1):\n",
    "        T_new[i] = T_old[i]+dt*k*(T_old[i+1]-2*T_old[i]+T_old[i-1])/dx**2\n",
    "\n",
    "    # Step 2    \n",
    "    T_old = T_new\n",
    "    count = count + 1\n",
    "    \n",
    "    if count%1000==0:\n",
    "        \n",
    "        plt.plot(x, T_new, color=colors[count2],\n",
    "                 label=\"It = %g, $T_{middle}=%.2f$\" % (count,T_old[int(n/2)]))\n",
    "    \n",
    "        count2 = count2 + 1\n",
    "\n",
    "plt.plot(x, T_new, color=colors[count2],\n",
    "         label=\"It = %g, $T_{middle}=%.2f$\" % (count,T_old[int(n/2)]))\n",
    "plt.title(\"FCTS solution to heat transfer\")\n",
    "plt.legend(bbox_to_anchor=[1,1])\n",
    "plt.xlabel(\"Length\")\n",
    "plt.ylabel(\"Temperature\")\n",
    "plt.show()"
   ]
  },
  {
   "cell_type": "markdown",
   "metadata": {},
   "source": [
    "Now explain what happened in Step 1 and Step 2 individually. Why does the `while` loop end?"
   ]
  },
  {
   "cell_type": "markdown",
   "metadata": {},
   "source": [
    "<i>Your text here</i>"
   ]
  },
  {
   "cell_type": "markdown",
   "metadata": {},
   "source": [
    "# Break the model"
   ]
  },
  {
   "cell_type": "markdown",
   "metadata": {},
   "source": [
    "Here's what happens if you choose a delta t larger than the one given by the CFL condition"
   ]
  },
  {
   "cell_type": "code",
   "execution_count": null,
   "metadata": {},
   "outputs": [],
   "source": [
    "n = 101\n",
    "\n",
    "T_old = np.zeros(n)\n",
    "T_new = np.zeros(n)\n",
    "\n",
    "for i in range(1,n-1):\n",
    "    T_old[i] = 100.\n",
    "\n",
    "l = 1\n",
    "dx = l/(n-1)\n",
    "print(\"dx = %.2f\" % dx)\n",
    "\n",
    "k = 0.01\n",
    "dt_max = dx**2/(2*k)\n",
    "dt = 2 * dt_max\n",
    "\n",
    "print(\"Maximum dt = %.4f.\" % dt_max)\n",
    "print(\"Used dt = %.4f.\" % dt)\n",
    "\n",
    "count = 0\n",
    "count2 = 0\n",
    "colors = plt.cm.seismic_r(np.linspace(0,1,10))\n",
    "\n",
    "while T_old[int(n/2)]>50.0:\n",
    "    \n",
    "    for i in range(1,n-1):\n",
    "        T_new[i] = T_old[i]+dt*k*(T_old[i+1]-2*T_old[i]+T_old[i-1])/dx**2\n",
    "        \n",
    "    T_old = T_new\n",
    "    count = count + 1\n",
    "    \n",
    "    if count%1000==0:\n",
    "        \n",
    "        plt.plot(x, T_new, color=colors[count2],\n",
    "                 label=\"It = %g, $T_{middle}=%.2f$\" % (count,T_old[int(n/2)]))\n",
    "    \n",
    "        count2 = count2 + 1\n",
    "\n",
    "plt.plot(x, T_new, color=colors[count2],\n",
    "         label=\"It = %g, $T_{middle}=%.2f$\" % (count,T_old[int(n/2)]))\n",
    "plt.title(\"FCTS solution to heat transfer\")\n",
    "plt.legend(bbox_to_anchor=[1,1])\n",
    "plt.xlabel(\"Length\")\n",
    "plt.ylabel(\"Temperature\")\n",
    "plt.show()"
   ]
  },
  {
   "cell_type": "markdown",
   "metadata": {},
   "source": [
    "Use your own words to describe what happened both <i>numerically</i> and <i>physically</i> (physical metaphor for the numerial instability)"
   ]
  },
  {
   "cell_type": "markdown",
   "metadata": {},
   "source": [
    "<i>Your text here</i>"
   ]
  }
 ],
 "metadata": {
  "kernelspec": {
   "display_name": "geobasic",
   "language": "python",
   "name": "python3"
  },
  "language_info": {
   "codemirror_mode": {
    "name": "ipython",
    "version": 3
   },
   "file_extension": ".py",
   "mimetype": "text/x-python",
   "name": "python",
   "nbconvert_exporter": "python",
   "pygments_lexer": "ipython3",
   "version": "3.9.7"
  }
 },
 "nbformat": 4,
 "nbformat_minor": 2
}
