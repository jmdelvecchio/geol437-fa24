{
  "cells": [
    {
      "attachments": {},
      "cell_type": "markdown",
      "metadata": {},
      "source": [
        "# Introduction"
      ]
    },
    {
      "attachments": {},
      "cell_type": "markdown",
      "metadata": {},
      "source": [
        "This is heavily adapted from a notebook by Simon Mudd, a geomorphologist and coding fan at the University of Edinburgh. The original notebook can be found on his teaching GitHub repo [here](https://github.com/simon-m-mudd/smm_teaching_notebooks/blob/master/Soil_production_and_weathering/The_soil_production_function.ipynb)."
      ]
    },
    {
      "cell_type": "markdown",
      "metadata": {},
      "source": [
        "In fact, I am going to let Simon do the talking for this first part..."
      ]
    },
    {
      "cell_type": "markdown",
      "metadata": {},
      "source": [
        "# Simon says"
      ]
    },
    {
      "attachments": {},
      "cell_type": "markdown",
      "metadata": {
        "id": "2_hGTkhtK-t4"
      },
      "source": [
        "In geomorphology, we model soil production as it relates to the rate of weathering on a hillslope. We use an exponential function that depends on soil depth, with weathering rates declining as soil gets deeper (Heimsath et al., 1997):\n",
        "\n",
        "$p = W_0 e^{-\\frac{h}{\\gamma}}$\n",
        "\n",
        "where $W_0$ is the soil production rate with no soil, and $\\gamma$ is a length scale that determines how quickly soil production falls off with depth.\n",
        "\n",
        "Typical values for $W_0$ are in the range 0.01-1 mm/yr [(Perron, 2017)](http://www.annualreviews.org/doi/abs/10.1146/annurev-earth-060614-105405). Note that when you're doing numerical calculations you have to be consistent with units. We will always do calculations in length units of ***metres*** (m), time units of ***years*** (y) and mass units of ***kilograms*** (kg). However we might convert to other units for the purposes of plotting sensible numbers (e.g. Weathering rates in mm/y = m/y $\\times$ 1000).\n",
        "\n",
        "Let's take a look at what this function looks like by plotting it with python:"
      ]
    },
    {
      "cell_type": "code",
      "execution_count": 1,
      "metadata": {
        "id": "IulwmMXrK-t6"
      },
      "outputs": [],
      "source": [
        "import matplotlib.pyplot as plt\n",
        "import numpy as np"
      ]
    },
    {
      "cell_type": "code",
      "execution_count": 2,
      "metadata": {
        "id": "-_PxcRSCK-t8"
      },
      "outputs": [],
      "source": [
        "# The variable h_locs, which you can think of as \"h locations,\" is simply an array of numbers spanning from 0 to 2 with a spacing of 0.1 \n",
        "# It represents the total soil thicknesses at which we are going to solve equations. \n",
        "# These are the inputs, or independent variables, or the \"x values\" for the function that we are going to solve. \n",
        "\n",
        "h_locs = np.arange(0,2,0.1)"
      ]
    },
    {
      "attachments": {},
      "cell_type": "markdown",
      "metadata": {
        "id": "I6F4togUK-t9"
      },
      "source": [
        "We define the soil production function as, well, a function in Python. Learn more about defining functions [here](https://docs.python.org/3/tutorial/controlflow.html#defining-functions)."
      ]
    },
    {
      "cell_type": "code",
      "execution_count": 3,
      "metadata": {
        "id": "cnX21qm0K-t-"
      },
      "outputs": [],
      "source": [
        "def soil_prod_function(h_locs, W_0 = 0.0001, gamma = 0.4):\n",
        "    P = np.multiply(W_0,  np.exp( - np.divide(h_locs,gamma)  )  )\n",
        "    return P"
      ]
    },
    {
      "attachments": {},
      "cell_type": "markdown",
      "metadata": {
        "id": "_GSdRzL-K-t_"
      },
      "source": [
        "Now lets plot the function and see what it looks like.\n",
        "\n",
        "In the code below there are two soil production functions that you can compare. For example if you make `W_0` twice as much as `W_02` that means the second soil production function produces soil twice as fast as the first when there is no soil. "
      ]
    },
    {
      "cell_type": "code",
      "execution_count": null,
      "metadata": {
        "colab": {
          "base_uri": "https://localhost:8080/",
          "height": 314
        },
        "id": "5DdjsEW7K-t_",
        "outputId": "21115441-f8d3-4bfc-a2ef-08ba4b7a4049"
      },
      "outputs": [],
      "source": [
        "plt.rcParams['figure.figsize'] = [10, 4]\n",
        "plt.clf()\n",
        "\n",
        "# TRY CHANGING THE FOUR PARAMETER BELOW\n",
        "# These two are for the first soil production function\n",
        "W_0 = 0.0001\n",
        "gamma = 0.4\n",
        "\n",
        "# These two are for the second soil production function\n",
        "W_02 = 0.0002\n",
        "gamma2 = 0.4\n",
        "\n",
        "# This bit calculates the functions\n",
        "P = soil_prod_function(h_locs, W_0 = W_0, gamma = gamma)\n",
        "P2 = soil_prod_function(h_locs, W_0 = W_02, gamma = gamma2)\n",
        "\n",
        "# The rest of this stuff makes the figure\n",
        "f, ax = plt.subplots(1, 1)\n",
        "ax.plot(h_locs, P*1000,label=\"P1\")\n",
        "ax.plot(h_locs, P2*1000,label=\"P2\")\n",
        "ax.set_xlabel(\"Soil thickness ($m$)\")\n",
        "ax.set_ylabel(\"Soil production (mm/yr)\")\n",
        "plt.title(\"Two soil production function. Try playing with the parameters!\")\n",
        "ax.legend()\n",
        "plt.tight_layout()"
      ]
    },
    {
      "cell_type": "markdown",
      "metadata": {},
      "source": [
        "# Numerically producing soil"
      ]
    },
    {
      "attachments": {},
      "cell_type": "markdown",
      "metadata": {
        "id": "V1Wylm5jMYot"
      },
      "source": [
        "The soil production function has *slower* soil production with thicker soil, meaning soil can't keep getting thicker forever! \n",
        "\n",
        "Describe in words how you might go about using these relationships presented in this notebook to calculate how long it would take a bare soil to reach a thickness at which the production of new soil is negigible. \n",
        "\n",
        "Go step by step, writing in words or pseudo-code the algorithmic steps you would take."
      ]
    },
    {
      "attachments": {},
      "cell_type": "markdown",
      "metadata": {
        "id": "cH195yz_NuqL"
      },
      "source": [
        "1. ...\n",
        "2. ...\n",
        "3. ..."
      ]
    },
    {
      "attachments": {},
      "cell_type": "markdown",
      "metadata": {
        "id": "0klU5vZYNxx8"
      },
      "source": [
        "So, given your parameters, <b>how long would it take to go from zero soil to a constant soil thickness?</b>\n",
        "\n",
        "Now, remembering the bucket example from the mini-assigment, implement a code that:\n",
        "1. Starts with a soil thickness of 0 at time 0\n",
        "2. Produces soil at each time step \n",
        "3. Stops when you have reached a \"steady-state\" (negigible soil is being produced from one time step to the next).\n",
        "\n",
        "Consider using [conditional and compound statements](https://docs.python.org/3/reference/compound_stmts.html) to test if certain conditions are met in a [loop](https://wiki.python.org/moin/ForLoop). "
      ]
    },
    {
      "cell_type": "code",
      "execution_count": 5,
      "metadata": {
        "id": "RDEP7SwSMQQX"
      },
      "outputs": [],
      "source": [
        "# Your code here"
      ]
    },
    {
      "cell_type": "markdown",
      "metadata": {},
      "source": [
        "# Deliverables"
      ]
    },
    {
      "cell_type": "markdown",
      "metadata": {},
      "source": [
        "1. Completed `iterating.ipynb`\n",
        "2. Completed `producing_soil.ipynb`, specifically numerically implementing the soil production function to determine the number of years needed to produce a soil whose thickness does not appreciably change with time.\n",
        "\n",
        "!* <b>BONUS</b> *! For an extra half point, compare your numerical solution of years until steady state with an <i>analytic</i> solution using the same parameters. Use integration!"
      ]
    }
  ],
  "metadata": {
    "colab": {
      "provenance": []
    },
    "kernelspec": {
      "display_name": "Python 3 (ipykernel)",
      "language": "python",
      "name": "python3"
    },
    "language_info": {
      "codemirror_mode": {
        "name": "ipython",
        "version": 3
      },
      "file_extension": ".py",
      "mimetype": "text/x-python",
      "name": "python",
      "nbconvert_exporter": "python",
      "pygments_lexer": "ipython3",
      "version": "3.9.18"
    }
  },
  "nbformat": 4,
  "nbformat_minor": 0
}
