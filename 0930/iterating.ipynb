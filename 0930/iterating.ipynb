{
 "cells": [
  {
   "cell_type": "markdown",
   "metadata": {},
   "source": [
    "# Iterating and conditionals"
   ]
  },
  {
   "cell_type": "markdown",
   "metadata": {},
   "source": [
    "This is a brief survey in ways that you might use iterations and control flow, like `for` loops and `if` statements. \n",
    "\n",
    "For a review of the tools at your disposal, read [More control flow tools](https://docs.python.org/3/tutorial/controlflow.html) in the Python docs."
   ]
  },
  {
   "cell_type": "code",
   "execution_count": 30,
   "metadata": {},
   "outputs": [],
   "source": [
    "import pandas as pd"
   ]
  },
  {
   "cell_type": "markdown",
   "metadata": {},
   "source": [
    "# `for` loops"
   ]
  },
  {
   "cell_type": "code",
   "execution_count": null,
   "metadata": {},
   "outputs": [],
   "source": [
    "nums = [1,2,3,4]\n",
    "\n",
    "for number in nums:\n",
    "    print(number + 1)"
   ]
  },
  {
   "cell_type": "code",
   "execution_count": null,
   "metadata": {},
   "outputs": [],
   "source": [
    "words = pd.read_csv(\"word_cloud_counts.csv\")\n",
    "word_list = words['Text'].tolist()\n",
    "print(word_list[0:4])"
   ]
  },
  {
   "cell_type": "markdown",
   "metadata": {},
   "source": [
    "## Mini-assignment 1"
   ]
  },
  {
   "cell_type": "markdown",
   "metadata": {},
   "source": [
    "Use a `for` loop and the built-in method [`.lower()`](https://docs.python.org/3/library/stdtypes.html#str.lower) to iterate through the list of features and make a new word list with lowercase words."
   ]
  },
  {
   "cell_type": "code",
   "execution_count": null,
   "metadata": {},
   "outputs": [],
   "source": [
    "# Your code here"
   ]
  },
  {
   "cell_type": "markdown",
   "metadata": {},
   "source": [
    "# `enumerate`"
   ]
  },
  {
   "cell_type": "markdown",
   "metadata": {},
   "source": [
    "`enumerate` returns a tuple with the counts and items in the iterable (like a list)"
   ]
  },
  {
   "cell_type": "markdown",
   "metadata": {},
   "source": [
    "Here I am taking advantage of [string formatted literals](https://docs.python.org/3/tutorial/inputoutput.html) - basically the `f'{variable}'` format lets you print words and variables together! "
   ]
  },
  {
   "cell_type": "code",
   "execution_count": null,
   "metadata": {},
   "outputs": [],
   "source": [
    "for i, word in enumerate(['sedimentary','igneous','metamorphic']):\n",
    "    # strings and variables living in harmony\n",
    "    print(f'Rock number {i+1} is {word}')"
   ]
  },
  {
   "cell_type": "markdown",
   "metadata": {},
   "source": [
    "# List comprehension"
   ]
  },
  {
   "cell_type": "markdown",
   "metadata": {},
   "source": [
    "List comprehension is a compact `for` loop if you want your results in a list (rather than, say, iterating with math or something)"
   ]
  },
  {
   "cell_type": "code",
   "execution_count": null,
   "metadata": {},
   "outputs": [],
   "source": [
    "[s.lower() for s in word_list][0:4]"
   ]
  },
  {
   "cell_type": "markdown",
   "metadata": {},
   "source": [
    "In this case:\n",
    "- `s`: Represents each item in the original word_list.\n",
    "- `.lower()`: A string method that converts each item (each `s`) to lowercase.\n",
    "- `for s in word_list`: Loops through all elements in the original list."
   ]
  },
  {
   "cell_type": "markdown",
   "metadata": {},
   "source": [
    "# Doing functions with `for` loop items"
   ]
  },
  {
   "cell_type": "markdown",
   "metadata": {},
   "source": [
    "Here I am using the incredible [`glob`](https://docs.python.org/3/library/glob.html)"
   ]
  },
  {
   "cell_type": "code",
   "execution_count": null,
   "metadata": {},
   "outputs": [],
   "source": [
    "from pathlib import Path\n",
    "\n",
    "p = Path(\".\\\\upper_kuparuk_data\")\n",
    "\n",
    "for file in p.glob('wt*.csv'):\n",
    "    print(file)"
   ]
  },
  {
   "cell_type": "markdown",
   "metadata": {},
   "source": [
    "Once you have created a `for` loop with a `glob` generator object, you can treat it like any other file, variable, etc. "
   ]
  },
  {
   "cell_type": "code",
   "execution_count": null,
   "metadata": {},
   "outputs": [],
   "source": [
    "for file in p.glob('wt*.csv'):\n",
    "    df = pd.read_csv(file)\n",
    "    print(file.stem, list(df.columns))"
   ]
  },
  {
   "cell_type": "markdown",
   "metadata": {},
   "source": [
    "Instead of opening each file by hand, we can quickly see which years we have data for and which ones we don't:"
   ]
  },
  {
   "cell_type": "code",
   "execution_count": null,
   "metadata": {},
   "outputs": [],
   "source": [
    "for file in p.glob('wt*.csv'):\n",
    "    df = pd.read_csv(file)\n",
    "    df['time'] = pd.to_datetime(df['TIMESTAMP'],format=\"%m/%d/%y %H:%M\")\n",
    "    df.index = df['time']\n",
    "    latest_date = df['time'].max()\n",
    "    if latest_date.year < 2015:\n",
    "        print (f'{file} only goes to {latest_date.year}:(')\n",
    "    else:\n",
    "        print (f'{file} goes to {latest_date.year}, hooray!')"
   ]
  },
  {
   "cell_type": "markdown",
   "metadata": {},
   "source": [
    "## Mini-assignment 2"
   ]
  },
  {
   "cell_type": "markdown",
   "metadata": {},
   "source": [
    "Write a for loop that (1) globs the water track files, (2) parses the latest date for each file, and (3) only plots the data in column `in_35` if the data goes until 2015. As a challenge, see if you can label it with the right water track!"
   ]
  },
  {
   "cell_type": "code",
   "execution_count": null,
   "metadata": {},
   "outputs": [],
   "source": [
    "import matplotlib.pyplot as plt\n",
    "\n",
    "fig, ax = plt.subplots()\n",
    "\n",
    "# Your code here\n"
   ]
  },
  {
   "cell_type": "markdown",
   "metadata": {},
   "source": [
    "# `while` loops"
   ]
  },
  {
   "cell_type": "markdown",
   "metadata": {},
   "source": [
    "like `for` loops but with no end. Technically can run forever and ever, until their stopping condition is met. "
   ]
  },
  {
   "cell_type": "code",
   "execution_count": null,
   "metadata": {},
   "outputs": [],
   "source": [
    "i = 0\n",
    "while i<4:\n",
    "    print(i)\n",
    "    i += 1 # shorthand for i = i + 1\n"
   ]
  },
  {
   "cell_type": "code",
   "execution_count": null,
   "metadata": {},
   "outputs": [],
   "source": [
    "i = 5\n",
    "while i: # shorthand for while i != 0\n",
    "    print('howdy again')\n",
    "    i -= 1 # shorthand for i = i - 1\n"
   ]
  },
  {
   "cell_type": "code",
   "execution_count": null,
   "metadata": {},
   "outputs": [],
   "source": [
    "i = 0\n",
    "while 3:\n",
    "    print(i)\n",
    "    i += 2\n",
    "    if i > 10:\n",
    "        break"
   ]
  },
  {
   "cell_type": "markdown",
   "metadata": {},
   "source": [
    "## Mini-assignment 3"
   ]
  },
  {
   "cell_type": "markdown",
   "metadata": {},
   "source": [
    "Use a `while` loop to fill a model bucket with a `total_bucket_volume` of some volume with water drops of a certain volume, and then turn off the faucet (exit the loop) when the bucket is full. At the end, print the number of drips needed to fill the bucket. "
   ]
  },
  {
   "cell_type": "code",
   "execution_count": null,
   "metadata": {},
   "outputs": [],
   "source": [
    "total_bucket_volume = ???\n",
    "drip_volume = ???\n",
    "\n",
    "drip_count = 0\n",
    "current_bucket_volume = 0\n",
    "\n",
    "while current_bucket_volume < ???:\n",
    "    current_bucket_volume += ???"
   ]
  }
 ],
 "metadata": {
  "kernelspec": {
   "display_name": "geobasic",
   "language": "python",
   "name": "python3"
  },
  "language_info": {
   "codemirror_mode": {
    "name": "ipython",
    "version": 3
   },
   "file_extension": ".py",
   "mimetype": "text/x-python",
   "name": "python",
   "nbconvert_exporter": "python",
   "pygments_lexer": "ipython3",
   "version": "3.9.7"
  }
 },
 "nbformat": 4,
 "nbformat_minor": 2
}
