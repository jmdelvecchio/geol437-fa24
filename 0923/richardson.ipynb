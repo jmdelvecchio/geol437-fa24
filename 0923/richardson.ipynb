{
  "cells": [
    {
      "cell_type": "markdown",
      "metadata": {},
      "source": [
        "This notebook was adapted from a data tutorial from EARS33"
      ]
    },
    {
      "attachments": {},
      "cell_type": "markdown",
      "metadata": {},
      "source": [
        "# Introduction"
      ]
    },
    {
      "attachments": {},
      "cell_type": "markdown",
      "metadata": {
        "id": "lOnba3hz92Jt"
      },
      "source": [
        "This notebook will help you perform exploratory data analysis (EDA) on data from [Richardson et al., 2019](https://pubs.geoscienceworld.org/gsa/geology/article/47/5/423/569535/Influences-of-climate-and-life-on-hillslope), in which the authors compiled data on the [diffusivity of soil-mantled hillslopes](https://earthsurface.readthedocs.io/en/latest/hillslope.html). "
      ]
    },
    {
      "attachments": {},
      "cell_type": "markdown",
      "metadata": {
        "id": "D2G5-oj69u8j"
      },
      "source": [
        "Here are the footnotes from the paper:"
      ]
    },
    {
      "attachments": {},
      "cell_type": "markdown",
      "metadata": {
        "id": "7u54mO5T-xB1"
      },
      "source": [
        "a If the exact location was not able to be identified, we used the location that best matched the site description. If multiple measurements were made for a region, we report the mean lat/lon for the study.\n",
        "\n",
        "b Uncertainties are reported as they were presented in the original journals. If uncertainties were not reported, we calculated and reported the standard deviation of D when possible. \n",
        "\n",
        "c Rock category: 1 = unconsolidated, 2 = sedimentary, 3 = Igneous/metamorphic.\n",
        "\n",
        "d Technique category: 1 = Scarp modeling, 2 = Laplacian and erosion rates, 3 = LEM, 4 = Colluvial flux and slope, 5 = erosion rate and Laplacian.\n",
        "\n",
        "e Vegetation category: 1 = Arid/desert, 2 = grasslands/scrublands, 3 = savannah/lightly forested, 4=forested.\n",
        "\n",
        "f West et al. (2014) reported the range of D for noth-facing and south-facing slopes. We reported the mean of these values.\n"
      ]
    },
    {
      "attachments": {},
      "cell_type": "markdown",
      "metadata": {
        "id": "HbMdIZMm_c9X"
      },
      "source": [
        "# Import libraries you'll need"
      ]
    },
    {
      "cell_type": "code",
      "execution_count": 1,
      "metadata": {
        "id": "h43ifiNz9P5O"
      },
      "outputs": [],
      "source": [
        "import numpy as np\n",
        "import pandas as pd\n",
        "import matplotlib.pyplot as plt\n",
        "import seaborn as sns"
      ]
    },
    {
      "attachments": {},
      "cell_type": "markdown",
      "metadata": {
        "id": "sIANnszi_olG"
      },
      "source": [
        "# Bring in the data and clean it"
      ]
    },
    {
      "attachments": {},
      "cell_type": "markdown",
      "metadata": {
        "id": "gCStgPEvAGrd"
      },
      "source": [
        "Other than moving the footnote text to a different file and saving the result as a .csv, I've given you the file as it was uploaded to the Geology Data Repository. Annoyingly, many journals prefer formetting supplemental tables to be human-, rather than machine-readable. Special characters and weird spacing come with the territory. You could edit these things in Excel, but let's see if we can clean this (already pretty clean) data with code.  "
      ]
    },
    {
      "cell_type": "code",
      "execution_count": 2,
      "metadata": {
        "colab": {
          "base_uri": "https://localhost:8080/",
          "height": 572
        },
        "id": "CB9_lEq3_u83",
        "outputId": "e91d49f2-d201-408d-ed03-fd9dcc48549c"
      },
      "outputs": [
        {
          "data": {
            "text/html": [
              "<div>\n",
              "<style scoped>\n",
              "    .dataframe tbody tr th:only-of-type {\n",
              "        vertical-align: middle;\n",
              "    }\n",
              "\n",
              "    .dataframe tbody tr th {\n",
              "        vertical-align: top;\n",
              "    }\n",
              "\n",
              "    .dataframe thead th {\n",
              "        text-align: right;\n",
              "    }\n",
              "</style>\n",
              "<table border=\"1\" class=\"dataframe\">\n",
              "  <thead>\n",
              "    <tr style=\"text-align: right;\">\n",
              "      <th></th>\n",
              "      <th>ï»¿Source</th>\n",
              "      <th>Site Location[a]</th>\n",
              "      <th>Latitude (deg)</th>\n",
              "      <th>Longitude (deg)</th>\n",
              "      <th>D (cm2/yr)</th>\n",
              "      <th>D[b] uncertainty (cm2/yr)</th>\n",
              "      <th>AI</th>\n",
              "      <th>MAP (cm/yr)</th>\n",
              "      <th>Underlying lithology description</th>\n",
              "      <th>Lithology category[c]</th>\n",
              "      <th>Technique description</th>\n",
              "      <th>Technique category[d]</th>\n",
              "      <th>Vegetation description</th>\n",
              "      <th>Vegetation category[e]</th>\n",
              "    </tr>\n",
              "  </thead>\n",
              "  <tbody>\n",
              "    <tr>\n",
              "      <th>0</th>\n",
              "      <td>Almond et al. [2008]</td>\n",
              "      <td>Charwell Basin, New Zealand</td>\n",
              "      <td>-42.450</td>\n",
              "      <td>173.357</td>\n",
              "      <td>50</td>\n",
              "      <td>20</td>\n",
              "      <td>1.42</td>\n",
              "      <td>116.0</td>\n",
              "      <td>Loess underlain by fluvial gravel terraces</td>\n",
              "      <td>1.0</td>\n",
              "      <td>Erosion rate and curvature. Estimate is for th...</td>\n",
              "      <td>2.0</td>\n",
              "      <td>Podocarp, hardwood, and beech forest</td>\n",
              "      <td>3.0</td>\n",
              "    </tr>\n",
              "    <tr>\n",
              "      <th>1</th>\n",
              "      <td>Almond et al. [2008]</td>\n",
              "      <td>Ahuriri, New Zealand</td>\n",
              "      <td>-43.702</td>\n",
              "      <td>172.584</td>\n",
              "      <td>70</td>\n",
              "      <td>20</td>\n",
              "      <td>0.76</td>\n",
              "      <td>68.8</td>\n",
              "      <td>Thick loess deposits underlain by altered basalt</td>\n",
              "      <td>1.0</td>\n",
              "      <td>137Cs fallout nuclides (50 yr timescale) and c...</td>\n",
              "      <td>2.0</td>\n",
              "      <td>Recolonization of forest during Holocene. Rece...</td>\n",
              "      <td>2.0</td>\n",
              "    </tr>\n",
              "    <tr>\n",
              "      <th>2</th>\n",
              "      <td>Arrowsmith et al. (1998)</td>\n",
              "      <td>Carrizo Plain, CA, USA</td>\n",
              "      <td>35.271</td>\n",
              "      <td>-119.827</td>\n",
              "      <td>86</td>\n",
              "      <td>8</td>\n",
              "      <td>0.33</td>\n",
              "      <td>46.7</td>\n",
              "      <td>Conglomerate and alluvial fan units.</td>\n",
              "      <td>2.0</td>\n",
              "      <td>Scarp modeling</td>\n",
              "      <td>1.0</td>\n",
              "      <td>Grasses and shrubs</td>\n",
              "      <td>2.0</td>\n",
              "    </tr>\n",
              "    <tr>\n",
              "      <th>3</th>\n",
              "      <td>Avouac and Peltzer (1993)</td>\n",
              "      <td>Hotan Region, Xinjiang, China</td>\n",
              "      <td>36.800</td>\n",
              "      <td>80.500</td>\n",
              "      <td>33</td>\n",
              "      <td>14</td>\n",
              "      <td>0.03</td>\n",
              "      <td>3.3</td>\n",
              "      <td>Loose fan gravels</td>\n",
              "      <td>1.0</td>\n",
              "      <td>Scarp modeling</td>\n",
              "      <td>1.0</td>\n",
              "      <td>Unvegetated</td>\n",
              "      <td>1.0</td>\n",
              "    </tr>\n",
              "    <tr>\n",
              "      <th>4</th>\n",
              "      <td>Avouac et al. (1993)</td>\n",
              "      <td>Tien Shan, China</td>\n",
              "      <td>44.048</td>\n",
              "      <td>86.790</td>\n",
              "      <td>55</td>\n",
              "      <td>25</td>\n",
              "      <td>0.19</td>\n",
              "      <td>18.4</td>\n",
              "      <td>Loose fan gravels</td>\n",
              "      <td>1.0</td>\n",
              "      <td>Scarp modeling</td>\n",
              "      <td>1.0</td>\n",
              "      <td>Grasses and shrubs</td>\n",
              "      <td>2.0</td>\n",
              "    </tr>\n",
              "    <tr>\n",
              "      <th>...</th>\n",
              "      <td>...</td>\n",
              "      <td>...</td>\n",
              "      <td>...</td>\n",
              "      <td>...</td>\n",
              "      <td>...</td>\n",
              "      <td>...</td>\n",
              "      <td>...</td>\n",
              "      <td>...</td>\n",
              "      <td>...</td>\n",
              "      <td>...</td>\n",
              "      <td>...</td>\n",
              "      <td>...</td>\n",
              "      <td>...</td>\n",
              "      <td>...</td>\n",
              "    </tr>\n",
              "    <tr>\n",
              "      <th>180</th>\n",
              "      <td>NaN</td>\n",
              "      <td>NaN</td>\n",
              "      <td>NaN</td>\n",
              "      <td>NaN</td>\n",
              "      <td>NaN</td>\n",
              "      <td>NaN</td>\n",
              "      <td>NaN</td>\n",
              "      <td>NaN</td>\n",
              "      <td>NaN</td>\n",
              "      <td>NaN</td>\n",
              "      <td>NaN</td>\n",
              "      <td>NaN</td>\n",
              "      <td>NaN</td>\n",
              "      <td>NaN</td>\n",
              "    </tr>\n",
              "    <tr>\n",
              "      <th>181</th>\n",
              "      <td>NaN</td>\n",
              "      <td>NaN</td>\n",
              "      <td>NaN</td>\n",
              "      <td>NaN</td>\n",
              "      <td>NaN</td>\n",
              "      <td>NaN</td>\n",
              "      <td>NaN</td>\n",
              "      <td>NaN</td>\n",
              "      <td>NaN</td>\n",
              "      <td>NaN</td>\n",
              "      <td>NaN</td>\n",
              "      <td>NaN</td>\n",
              "      <td>NaN</td>\n",
              "      <td>NaN</td>\n",
              "    </tr>\n",
              "    <tr>\n",
              "      <th>182</th>\n",
              "      <td>NaN</td>\n",
              "      <td>NaN</td>\n",
              "      <td>NaN</td>\n",
              "      <td>NaN</td>\n",
              "      <td>NaN</td>\n",
              "      <td>NaN</td>\n",
              "      <td>NaN</td>\n",
              "      <td>NaN</td>\n",
              "      <td>NaN</td>\n",
              "      <td>NaN</td>\n",
              "      <td>NaN</td>\n",
              "      <td>NaN</td>\n",
              "      <td>NaN</td>\n",
              "      <td>NaN</td>\n",
              "    </tr>\n",
              "    <tr>\n",
              "      <th>183</th>\n",
              "      <td>NaN</td>\n",
              "      <td>NaN</td>\n",
              "      <td>NaN</td>\n",
              "      <td>NaN</td>\n",
              "      <td>NaN</td>\n",
              "      <td>NaN</td>\n",
              "      <td>NaN</td>\n",
              "      <td>NaN</td>\n",
              "      <td>NaN</td>\n",
              "      <td>NaN</td>\n",
              "      <td>NaN</td>\n",
              "      <td>NaN</td>\n",
              "      <td>NaN</td>\n",
              "      <td>NaN</td>\n",
              "    </tr>\n",
              "    <tr>\n",
              "      <th>184</th>\n",
              "      <td>NaN</td>\n",
              "      <td>NaN</td>\n",
              "      <td>NaN</td>\n",
              "      <td>NaN</td>\n",
              "      <td></td>\n",
              "      <td>NaN</td>\n",
              "      <td>NaN</td>\n",
              "      <td>NaN</td>\n",
              "      <td>NaN</td>\n",
              "      <td>NaN</td>\n",
              "      <td>NaN</td>\n",
              "      <td>NaN</td>\n",
              "      <td>NaN</td>\n",
              "      <td>NaN</td>\n",
              "    </tr>\n",
              "  </tbody>\n",
              "</table>\n",
              "<p>185 rows × 14 columns</p>\n",
              "</div>"
            ],
            "text/plain": [
              "                     ï»¿Source               Site Location[a]  Latitude (deg)  \\\n",
              "0        Almond et al. [2008]     Charwell Basin, New Zealand         -42.450   \n",
              "1        Almond et al. [2008]            Ahuriri, New Zealand         -43.702   \n",
              "2     Arrowsmith et al. (1998)         Carrizo Plain, CA, USA          35.271   \n",
              "3    Avouac and Peltzer (1993)  Hotan Region, Xinjiang, China          36.800   \n",
              "4         Avouac et al. (1993)               Tien Shan, China          44.048   \n",
              "..                         ...                            ...             ...   \n",
              "180                        NaN                            NaN             NaN   \n",
              "181                        NaN                            NaN             NaN   \n",
              "182                        NaN                            NaN             NaN   \n",
              "183                        NaN                            NaN             NaN   \n",
              "184                        NaN                            NaN             NaN   \n",
              "\n",
              "     Longitude (deg) D (cm2/yr) D[b] uncertainty (cm2/yr)    AI  MAP (cm/yr)  \\\n",
              "0            173.357         50                        20  1.42        116.0   \n",
              "1            172.584         70                        20  0.76         68.8   \n",
              "2           -119.827         86                         8  0.33         46.7   \n",
              "3             80.500         33                        14  0.03          3.3   \n",
              "4             86.790         55                        25  0.19         18.4   \n",
              "..               ...        ...                       ...   ...          ...   \n",
              "180              NaN        NaN                       NaN   NaN          NaN   \n",
              "181              NaN        NaN                       NaN   NaN          NaN   \n",
              "182              NaN        NaN                       NaN   NaN          NaN   \n",
              "183              NaN        NaN                       NaN   NaN          NaN   \n",
              "184              NaN                                  NaN   NaN          NaN   \n",
              "\n",
              "                     Underlying lithology description  Lithology category[c]  \\\n",
              "0         Loess underlain by fluvial gravel terraces                     1.0   \n",
              "1    Thick loess deposits underlain by altered basalt                    1.0   \n",
              "2                Conglomerate and alluvial fan units.                    2.0   \n",
              "3                                   Loose fan gravels                    1.0   \n",
              "4                                   Loose fan gravels                    1.0   \n",
              "..                                                ...                    ...   \n",
              "180                                               NaN                    NaN   \n",
              "181                                               NaN                    NaN   \n",
              "182                                               NaN                    NaN   \n",
              "183                                               NaN                    NaN   \n",
              "184                                               NaN                    NaN   \n",
              "\n",
              "                                 Technique description  Technique category[d]  \\\n",
              "0    Erosion rate and curvature. Estimate is for th...                    2.0   \n",
              "1    137Cs fallout nuclides (50 yr timescale) and c...                    2.0   \n",
              "2                                       Scarp modeling                    1.0   \n",
              "3                                       Scarp modeling                    1.0   \n",
              "4                                       Scarp modeling                    1.0   \n",
              "..                                                 ...                    ...   \n",
              "180                                                NaN                    NaN   \n",
              "181                                                NaN                    NaN   \n",
              "182                                                NaN                    NaN   \n",
              "183                                                NaN                    NaN   \n",
              "184                                                NaN                    NaN   \n",
              "\n",
              "                                Vegetation description  Vegetation category[e]  \n",
              "0                 Podocarp, hardwood, and beech forest                     3.0  \n",
              "1    Recolonization of forest during Holocene. Rece...                     2.0  \n",
              "2                                   Grasses and shrubs                     2.0  \n",
              "3                                          Unvegetated                     1.0  \n",
              "4                                   Grasses and shrubs                     2.0  \n",
              "..                                                 ...                     ...  \n",
              "180                                                NaN                     NaN  \n",
              "181                                                NaN                     NaN  \n",
              "182                                                NaN                     NaN  \n",
              "183                                                NaN                     NaN  \n",
              "184                                                NaN                     NaN  \n",
              "\n",
              "[185 rows x 14 columns]"
            ]
          },
          "execution_count": 2,
          "metadata": {},
          "output_type": "execute_result"
        }
      ],
      "source": [
        "# Load the .csv as a pandas data frame. What problems might you anticipate?\n",
        "df = pd.read_csv(\"2019149_TableDR1.csv\", encoding= 'unicode_escape')\n",
        "df"
      ]
    },
    {
      "attachments": {},
      "cell_type": "markdown",
      "metadata": {
        "id": "KCmVfBasS-Z-"
      },
      "source": [
        "Ok, this looks a little ugly - there are extra rows and columns and there are some funky symbols going on since they got translated from that journal supplement. \n",
        "\n",
        "I'll get you started with renaming the first column"
      ]
    },
    {
      "cell_type": "code",
      "execution_count": 3,
      "metadata": {
        "colab": {
          "base_uri": "https://localhost:8080/",
          "height": 337
        },
        "id": "yBjq7CEKNV_Y",
        "outputId": "b9acc9fb-69b0-4cdf-94f5-cebf4b8b325e"
      },
      "outputs": [
        {
          "data": {
            "text/html": [
              "<div>\n",
              "<style scoped>\n",
              "    .dataframe tbody tr th:only-of-type {\n",
              "        vertical-align: middle;\n",
              "    }\n",
              "\n",
              "    .dataframe tbody tr th {\n",
              "        vertical-align: top;\n",
              "    }\n",
              "\n",
              "    .dataframe thead th {\n",
              "        text-align: right;\n",
              "    }\n",
              "</style>\n",
              "<table border=\"1\" class=\"dataframe\">\n",
              "  <thead>\n",
              "    <tr style=\"text-align: right;\">\n",
              "      <th></th>\n",
              "      <th>Source</th>\n",
              "      <th>Site Location[a]</th>\n",
              "      <th>Latitude (deg)</th>\n",
              "      <th>Longitude (deg)</th>\n",
              "      <th>D (cm2/yr)</th>\n",
              "      <th>D[b] uncertainty (cm2/yr)</th>\n",
              "      <th>AI</th>\n",
              "      <th>MAP (cm/yr)</th>\n",
              "      <th>Underlying lithology description</th>\n",
              "      <th>Lithology category[c]</th>\n",
              "      <th>Technique description</th>\n",
              "      <th>Technique category[d]</th>\n",
              "      <th>Vegetation description</th>\n",
              "      <th>Vegetation category[e]</th>\n",
              "    </tr>\n",
              "  </thead>\n",
              "  <tbody>\n",
              "    <tr>\n",
              "      <th>0</th>\n",
              "      <td>Almond et al. [2008]</td>\n",
              "      <td>Charwell Basin, New Zealand</td>\n",
              "      <td>-42.450</td>\n",
              "      <td>173.357</td>\n",
              "      <td>50</td>\n",
              "      <td>20</td>\n",
              "      <td>1.42</td>\n",
              "      <td>116.0</td>\n",
              "      <td>Loess underlain by fluvial gravel terraces</td>\n",
              "      <td>1.0</td>\n",
              "      <td>Erosion rate and curvature. Estimate is for th...</td>\n",
              "      <td>2.0</td>\n",
              "      <td>Podocarp, hardwood, and beech forest</td>\n",
              "      <td>3.0</td>\n",
              "    </tr>\n",
              "    <tr>\n",
              "      <th>1</th>\n",
              "      <td>Almond et al. [2008]</td>\n",
              "      <td>Ahuriri, New Zealand</td>\n",
              "      <td>-43.702</td>\n",
              "      <td>172.584</td>\n",
              "      <td>70</td>\n",
              "      <td>20</td>\n",
              "      <td>0.76</td>\n",
              "      <td>68.8</td>\n",
              "      <td>Thick loess deposits underlain by altered basalt</td>\n",
              "      <td>1.0</td>\n",
              "      <td>137Cs fallout nuclides (50 yr timescale) and c...</td>\n",
              "      <td>2.0</td>\n",
              "      <td>Recolonization of forest during Holocene. Rece...</td>\n",
              "      <td>2.0</td>\n",
              "    </tr>\n",
              "    <tr>\n",
              "      <th>2</th>\n",
              "      <td>Arrowsmith et al. (1998)</td>\n",
              "      <td>Carrizo Plain, CA, USA</td>\n",
              "      <td>35.271</td>\n",
              "      <td>-119.827</td>\n",
              "      <td>86</td>\n",
              "      <td>8</td>\n",
              "      <td>0.33</td>\n",
              "      <td>46.7</td>\n",
              "      <td>Conglomerate and alluvial fan units.</td>\n",
              "      <td>2.0</td>\n",
              "      <td>Scarp modeling</td>\n",
              "      <td>1.0</td>\n",
              "      <td>Grasses and shrubs</td>\n",
              "      <td>2.0</td>\n",
              "    </tr>\n",
              "    <tr>\n",
              "      <th>3</th>\n",
              "      <td>Avouac and Peltzer (1993)</td>\n",
              "      <td>Hotan Region, Xinjiang, China</td>\n",
              "      <td>36.800</td>\n",
              "      <td>80.500</td>\n",
              "      <td>33</td>\n",
              "      <td>14</td>\n",
              "      <td>0.03</td>\n",
              "      <td>3.3</td>\n",
              "      <td>Loose fan gravels</td>\n",
              "      <td>1.0</td>\n",
              "      <td>Scarp modeling</td>\n",
              "      <td>1.0</td>\n",
              "      <td>Unvegetated</td>\n",
              "      <td>1.0</td>\n",
              "    </tr>\n",
              "    <tr>\n",
              "      <th>4</th>\n",
              "      <td>Avouac et al. (1993)</td>\n",
              "      <td>Tien Shan, China</td>\n",
              "      <td>44.048</td>\n",
              "      <td>86.790</td>\n",
              "      <td>55</td>\n",
              "      <td>25</td>\n",
              "      <td>0.19</td>\n",
              "      <td>18.4</td>\n",
              "      <td>Loose fan gravels</td>\n",
              "      <td>1.0</td>\n",
              "      <td>Scarp modeling</td>\n",
              "      <td>1.0</td>\n",
              "      <td>Grasses and shrubs</td>\n",
              "      <td>2.0</td>\n",
              "    </tr>\n",
              "  </tbody>\n",
              "</table>\n",
              "</div>"
            ],
            "text/plain": [
              "                      Source               Site Location[a]  Latitude (deg)  \\\n",
              "0      Almond et al. [2008]     Charwell Basin, New Zealand         -42.450   \n",
              "1      Almond et al. [2008]            Ahuriri, New Zealand         -43.702   \n",
              "2   Arrowsmith et al. (1998)         Carrizo Plain, CA, USA          35.271   \n",
              "3  Avouac and Peltzer (1993)  Hotan Region, Xinjiang, China          36.800   \n",
              "4       Avouac et al. (1993)               Tien Shan, China          44.048   \n",
              "\n",
              "   Longitude (deg) D (cm2/yr) D[b] uncertainty (cm2/yr)    AI  MAP (cm/yr)  \\\n",
              "0          173.357         50                        20  1.42        116.0   \n",
              "1          172.584         70                        20  0.76         68.8   \n",
              "2         -119.827         86                         8  0.33         46.7   \n",
              "3           80.500         33                        14  0.03          3.3   \n",
              "4           86.790         55                        25  0.19         18.4   \n",
              "\n",
              "                   Underlying lithology description  Lithology category[c]  \\\n",
              "0       Loess underlain by fluvial gravel terraces                     1.0   \n",
              "1  Thick loess deposits underlain by altered basalt                    1.0   \n",
              "2              Conglomerate and alluvial fan units.                    2.0   \n",
              "3                                 Loose fan gravels                    1.0   \n",
              "4                                 Loose fan gravels                    1.0   \n",
              "\n",
              "                               Technique description  Technique category[d]  \\\n",
              "0  Erosion rate and curvature. Estimate is for th...                    2.0   \n",
              "1  137Cs fallout nuclides (50 yr timescale) and c...                    2.0   \n",
              "2                                     Scarp modeling                    1.0   \n",
              "3                                     Scarp modeling                    1.0   \n",
              "4                                     Scarp modeling                    1.0   \n",
              "\n",
              "                              Vegetation description  Vegetation category[e]  \n",
              "0               Podocarp, hardwood, and beech forest                     3.0  \n",
              "1  Recolonization of forest during Holocene. Rece...                     2.0  \n",
              "2                                 Grasses and shrubs                     2.0  \n",
              "3                                        Unvegetated                     1.0  \n",
              "4                                 Grasses and shrubs                     2.0  "
            ]
          },
          "execution_count": 3,
          "metadata": {},
          "output_type": "execute_result"
        }
      ],
      "source": [
        "# You can give df.rename a dictionary of old and new names like the following:\n",
        "df.rename(columns={'ï»¿Source':'Source'}, inplace=True)\n",
        "# inplace=True means it replaces the column name in the original df rather\n",
        "# than makes a copy\n",
        "df.head()"
      ]
    },
    {
      "attachments": {},
      "cell_type": "markdown",
      "metadata": {
        "id": "fCi6c9wORm9m"
      },
      "source": [
        "Next you have to get rid of all those NaN (not a number) rows. Learn how to [drop rows and columns with NaNs](https://pandas.pydata.org/pandas-docs/stable/reference/api/pandas.DataFrame.dropna.html) or [particular columns](https://pandas.pydata.org/pandas-docs/stable/reference/api/pandas.DataFrame.drop.html) that are read from converting Excel files to csv files. "
      ]
    },
    {
      "cell_type": "code",
      "execution_count": 4,
      "metadata": {
        "id": "kBw2gSwIORZT"
      },
      "outputs": [],
      "source": [
        "# Code block to eliminate extra rows here\n",
        "df.dropna(axis=0, how='all', inplace=True)"
      ]
    },
    {
      "attachments": {},
      "cell_type": "markdown",
      "metadata": {
        "id": "M7cPBfCpQIGx"
      },
      "source": [
        "After you've gotten rid of all the NaNs, now can we plot data? \n",
        "\n",
        "Pandas has a very acceptable [built-in histogram plotting function](https://pandas.pydata.org/pandas-docs/stable/reference/api/pandas.DataFrame.hist.html) that can help you quickly visualize your data. \n",
        "\n",
        "Try this line out..."
      ]
    },
    {
      "cell_type": "code",
      "execution_count": 5,
      "metadata": {
        "colab": {
          "base_uri": "https://localhost:8080/",
          "height": 325
        },
        "id": "1RpIU4qnSf9S",
        "outputId": "1ef472d5-9b16-4412-8bf4-6533fe734786"
      },
      "outputs": [
        {
          "ename": "ValueError",
          "evalue": "hist method requires numerical or datetime columns, nothing to plot.",
          "output_type": "error",
          "traceback": [
            "\u001b[1;31m---------------------------------------------------------------------------\u001b[0m",
            "\u001b[1;31mValueError\u001b[0m                                Traceback (most recent call last)",
            "Cell \u001b[1;32mIn[5], line 1\u001b[0m\n\u001b[1;32m----> 1\u001b[0m \u001b[43mdf\u001b[49m\u001b[38;5;241;43m.\u001b[39;49m\u001b[43mhist\u001b[49m\u001b[43m(\u001b[49m\u001b[43mcolumn\u001b[49m\u001b[38;5;241;43m=\u001b[39;49m\u001b[38;5;124;43m'\u001b[39;49m\u001b[38;5;124;43mD (cm2/yr)\u001b[39;49m\u001b[38;5;124;43m'\u001b[39;49m\u001b[43m)\u001b[49m\n",
            "File \u001b[1;32mc:\\Users\\jdelvecchio01\\AppData\\Local\\miniconda3\\envs\\geobasic\\lib\\site-packages\\pandas\\plotting\\_core.py:247\u001b[0m, in \u001b[0;36mhist_frame\u001b[1;34m(data, column, by, grid, xlabelsize, xrot, ylabelsize, yrot, ax, sharex, sharey, figsize, layout, bins, backend, legend, **kwargs)\u001b[0m\n\u001b[0;32m    160\u001b[0m \u001b[38;5;250m\u001b[39m\u001b[38;5;124;03m\"\"\"\u001b[39;00m\n\u001b[0;32m    161\u001b[0m \u001b[38;5;124;03mMake a histogram of the DataFrame's columns.\u001b[39;00m\n\u001b[0;32m    162\u001b[0m \n\u001b[1;32m   (...)\u001b[0m\n\u001b[0;32m    244\u001b[0m \u001b[38;5;124;03m    >>> hist = df.hist(bins=3)\u001b[39;00m\n\u001b[0;32m    245\u001b[0m \u001b[38;5;124;03m\"\"\"\u001b[39;00m\n\u001b[0;32m    246\u001b[0m plot_backend \u001b[38;5;241m=\u001b[39m _get_plot_backend(backend)\n\u001b[1;32m--> 247\u001b[0m \u001b[38;5;28;01mreturn\u001b[39;00m plot_backend\u001b[38;5;241m.\u001b[39mhist_frame(\n\u001b[0;32m    248\u001b[0m     data,\n\u001b[0;32m    249\u001b[0m     column\u001b[38;5;241m=\u001b[39mcolumn,\n\u001b[0;32m    250\u001b[0m     by\u001b[38;5;241m=\u001b[39mby,\n\u001b[0;32m    251\u001b[0m     grid\u001b[38;5;241m=\u001b[39mgrid,\n\u001b[0;32m    252\u001b[0m     xlabelsize\u001b[38;5;241m=\u001b[39mxlabelsize,\n\u001b[0;32m    253\u001b[0m     xrot\u001b[38;5;241m=\u001b[39mxrot,\n\u001b[0;32m    254\u001b[0m     ylabelsize\u001b[38;5;241m=\u001b[39mylabelsize,\n\u001b[0;32m    255\u001b[0m     yrot\u001b[38;5;241m=\u001b[39myrot,\n\u001b[0;32m    256\u001b[0m     ax\u001b[38;5;241m=\u001b[39max,\n\u001b[0;32m    257\u001b[0m     sharex\u001b[38;5;241m=\u001b[39msharex,\n\u001b[0;32m    258\u001b[0m     sharey\u001b[38;5;241m=\u001b[39msharey,\n\u001b[0;32m    259\u001b[0m     figsize\u001b[38;5;241m=\u001b[39mfigsize,\n\u001b[0;32m    260\u001b[0m     layout\u001b[38;5;241m=\u001b[39mlayout,\n\u001b[0;32m    261\u001b[0m     legend\u001b[38;5;241m=\u001b[39mlegend,\n\u001b[0;32m    262\u001b[0m     bins\u001b[38;5;241m=\u001b[39mbins,\n\u001b[0;32m    263\u001b[0m     \u001b[38;5;241m*\u001b[39m\u001b[38;5;241m*\u001b[39mkwargs,\n\u001b[0;32m    264\u001b[0m )\n",
            "File \u001b[1;32mc:\\Users\\jdelvecchio01\\AppData\\Local\\miniconda3\\envs\\geobasic\\lib\\site-packages\\pandas\\plotting\\_matplotlib\\hist.py:516\u001b[0m, in \u001b[0;36mhist_frame\u001b[1;34m(data, column, by, grid, xlabelsize, xrot, ylabelsize, yrot, ax, sharex, sharey, figsize, layout, bins, legend, **kwds)\u001b[0m\n\u001b[0;32m    513\u001b[0m naxes \u001b[38;5;241m=\u001b[39m \u001b[38;5;28mlen\u001b[39m(data\u001b[38;5;241m.\u001b[39mcolumns)\n\u001b[0;32m    515\u001b[0m \u001b[38;5;28;01mif\u001b[39;00m naxes \u001b[38;5;241m==\u001b[39m \u001b[38;5;241m0\u001b[39m:\n\u001b[1;32m--> 516\u001b[0m     \u001b[38;5;28;01mraise\u001b[39;00m \u001b[38;5;167;01mValueError\u001b[39;00m(\n\u001b[0;32m    517\u001b[0m         \u001b[38;5;124m\"\u001b[39m\u001b[38;5;124mhist method requires numerical or datetime columns, nothing to plot.\u001b[39m\u001b[38;5;124m\"\u001b[39m\n\u001b[0;32m    518\u001b[0m     )\n\u001b[0;32m    520\u001b[0m fig, axes \u001b[38;5;241m=\u001b[39m create_subplots(\n\u001b[0;32m    521\u001b[0m     naxes\u001b[38;5;241m=\u001b[39mnaxes,\n\u001b[0;32m    522\u001b[0m     ax\u001b[38;5;241m=\u001b[39max,\n\u001b[1;32m   (...)\u001b[0m\n\u001b[0;32m    527\u001b[0m     layout\u001b[38;5;241m=\u001b[39mlayout,\n\u001b[0;32m    528\u001b[0m )\n\u001b[0;32m    529\u001b[0m _axes \u001b[38;5;241m=\u001b[39m flatten_axes(axes)\n",
            "\u001b[1;31mValueError\u001b[0m: hist method requires numerical or datetime columns, nothing to plot."
          ]
        }
      ],
      "source": [
        "df.hist(column='D (cm2/yr)')"
      ]
    },
    {
      "attachments": {},
      "cell_type": "markdown",
      "metadata": {
        "id": "K97m2b15P8Ip"
      },
      "source": [
        "Hmm what the heckity heck is this?"
      ]
    },
    {
      "cell_type": "code",
      "execution_count": 6,
      "metadata": {
        "colab": {
          "base_uri": "https://localhost:8080/"
        },
        "id": "lSfONIzZVmmK",
        "outputId": "92205e42-6529-4d9e-9e78-7145837a817a"
      },
      "outputs": [
        {
          "data": {
            "text/plain": [
              "Source                               object\n",
              "Site Location[a]                     object\n",
              "Latitude (deg)                      float64\n",
              "Longitude (deg)                     float64\n",
              "D (cm2/yr)                           object\n",
              "D[b] uncertainty (cm2/yr)            object\n",
              "AI                                  float64\n",
              "MAP (cm/yr)                         float64\n",
              "Underlying lithology description     object\n",
              "Lithology category[c]               float64\n",
              "Technique description                object\n",
              "Technique category[d]               float64\n",
              "Vegetation description               object\n",
              "Vegetation category[e]              float64\n",
              "dtype: object"
            ]
          },
          "execution_count": 6,
          "metadata": {},
          "output_type": "execute_result"
        }
      ],
      "source": [
        "df.dtypes"
      ]
    },
    {
      "attachments": {},
      "cell_type": "markdown",
      "metadata": {
        "id": "ItwoCqAYUxoP"
      },
      "source": [
        "Ugh, looks like you're gonna have to check out a thorough answer to [changing data types](https://stackoverflow.com/questions/15891038/change-column-type-in-pandas) in Pandas columns. \n",
        "\n",
        "Depending how you do this you might have to  [replace](https://pandas.pydata.org/docs/reference/api/pandas.DataFrame.replace.html) some strings\n"
      ]
    },
    {
      "cell_type": "code",
      "execution_count": 7,
      "metadata": {
        "colab": {
          "base_uri": "https://localhost:8080/"
        },
        "id": "tPVlh16rW6hg",
        "outputId": "8e0f1b0b-da3b-4f84-f48d-4b623b2c431a"
      },
      "outputs": [
        {
          "data": {
            "text/plain": [
              "Source                               object\n",
              "Site Location[a]                     object\n",
              "Latitude (deg)                      float64\n",
              "Longitude (deg)                     float64\n",
              "D (cm2/yr)                          float64\n",
              "D[b] uncertainty (cm2/yr)           float64\n",
              "AI                                  float64\n",
              "MAP (cm/yr)                         float64\n",
              "Underlying lithology description     object\n",
              "Lithology category[c]               float64\n",
              "Technique description                object\n",
              "Technique category[d]               float64\n",
              "Vegetation description               object\n",
              "Vegetation category[e]              float64\n",
              "dtype: object"
            ]
          },
          "execution_count": 7,
          "metadata": {},
          "output_type": "execute_result"
        }
      ],
      "source": [
        "# Code block to change data types here\n",
        "df[['D (cm2/yr)', 'D[b] uncertainty (cm2/yr)']] = df[['D (cm2/yr)', 'D[b] uncertainty (cm2/yr)',]].apply(pd.to_numeric, errors='coerce')\n",
        "\n",
        "df.dtypes"
      ]
    },
    {
      "attachments": {},
      "cell_type": "markdown",
      "metadata": {
        "id": "7V6n1UZpWRAa"
      },
      "source": [
        "Nice, now you have a nice clean dataset for slicing and visualizing! \n",
        "\n",
        "Please plot a histogram of diffusion values:"
      ]
    },
    {
      "cell_type": "code",
      "execution_count": 8,
      "metadata": {
        "colab": {
          "base_uri": "https://localhost:8080/",
          "height": 318
        },
        "id": "X6EJGcdtShB6",
        "outputId": "7c07f93b-ef1f-49ee-805c-bbcb22b25082"
      },
      "outputs": [
        {
          "data": {
            "text/plain": [
              "array([[<Axes: title={'center': 'D (cm2/yr)'}>]], dtype=object)"
            ]
          },
          "execution_count": 8,
          "metadata": {},
          "output_type": "execute_result"
        },
        {
          "data": {
            "image/png": "[encoded data removed]",
            "text/plain": [
              "<Figure size 640x480 with 1 Axes>"
            ]
          },
          "metadata": {},
          "output_type": "display_data"
        }
      ],
      "source": [
        "# Histogram code here \n",
        "df.hist(column='D (cm2/yr)')"
      ]
    },
    {
      "attachments": {},
      "cell_type": "markdown",
      "metadata": {
        "id": "CCgRCSP6_vew"
      },
      "source": [
        "# Reproduce Figure 2: climate variables versus diffusivity"
      ]
    },
    {
      "attachments": {},
      "cell_type": "markdown",
      "metadata": {
        "id": "71xcVGiLH_U_"
      },
      "source": [
        "Now for grouping by study! It's nontrivial to create the \"other studies\" group, so I'll demosntrate the code here:"
      ]
    },
    {
      "cell_type": "code",
      "execution_count": 9,
      "metadata": {
        "colab": {
          "base_uri": "https://localhost:8080/"
        },
        "id": "b99zdaPe_7u2",
        "outputId": "f7144337-299b-4336-be5e-db20d04914df"
      },
      "outputs": [
        {
          "name": "stdout",
          "output_type": "stream",
          "text": [
            "Source_grouping\n",
            "Other studies       57\n",
            "Callaghan (2012)    48\n",
            "This study           9\n",
            "Name: count, dtype: int64\n",
            "\n",
            " versus\n",
            " Source\n",
            "Callaghan (2012)                                    48\n",
            "This study                                           9\n",
            "Ben-Asher et al. (2017)                              5\n",
            "Hanks et al. (1984)                                  4\n",
            "Almond et al. [2008]                                 2\n",
            "McGuire (2014).                                      2\n",
            "Mattson and Bruhn (2001)                             2\n",
            "Hurst et al. (2013)                                  2\n",
            "Perron et al. (2012)                                 2\n",
            "Reneau (1988) reported in Heimsath et al. (2005)     2\n",
            "Name: count, dtype: int64\n"
          ]
        }
      ],
      "source": [
        "df['Source_grouping'] = df['Source'].replace(df['Source'].value_counts().index[2:], 'Other studies')\n",
        "\n",
        "# This code counts the number of unique entries in \"Source\" and lists them in descending order. \n",
        "# Then, preserving the top two occurrences (\"Callaghan (2012)\" and \"This study\"), \n",
        "# give me the indices of every other \"Source\" (don't forget, Python starts counting\n",
        "# at zero, so Callaghan is 0, and This study is 1.) and replace their values\n",
        "# with the string \"Other studies\". Then I put it in a column specifically for\n",
        "# our plotting adventures\n",
        "\n",
        "\n",
        "print (df['Source_grouping'].value_counts())\n",
        "\n",
        "# versus\n",
        "\n",
        "print ('\\n', 'versus\\n', df['Source'].value_counts()[0:10])"
      ]
    },
    {
      "attachments": {},
      "cell_type": "markdown",
      "metadata": {
        "id": "vD8VNTvRIYT1"
      },
      "source": [
        "Now that I've done that, you're free to plot by groups! See how close you can get your plot to Figure 2!!"
      ]
    },
    {
      "attachments": {},
      "cell_type": "markdown",
      "metadata": {
        "id": "xUR0SXbynjWh"
      },
      "source": [
        "You'll want the documentation for [markers](https://matplotlib.org/stable/api/markers_api.html) along with [examples](https://matplotlib.org/stable/gallery/lines_bars_and_markers/scatter_star_poly.html) and for [colors](https://matplotlib.org/3.5.0/gallery/color/named_colors.html). "
      ]
    },
    {
      "cell_type": "code",
      "execution_count": 14,
      "metadata": {
        "colab": {
          "base_uri": "https://localhost:8080/",
          "height": 289
        },
        "id": "uBEPUXvcIW2u",
        "outputId": "201fe01f-dd98-4196-f0e3-ce3340aed7df"
      },
      "outputs": [
        {
          "data": {
            "text/plain": [
              "Text(0, 0.5, 'D (cm$^2$/yr)')"
            ]
          },
          "execution_count": 14,
          "metadata": {},
          "output_type": "execute_result"
        },
        {
          "data": {
            "image/png": "[encoded data removed]",
            "text/plain": [
              "<Figure size 800x400 with 2 Axes>"
            ]
          },
          "metadata": {},
          "output_type": "display_data"
        }
      ],
      "source": [
        "# Insert plot here \n",
        "\n",
        "# I'll get you started:\n",
        "\n",
        "fig, ax = plt.subplots(1,2, figsize=(8,4), sharey=True)\n",
        "\n",
        "# sharey=True means you only have to control and plot one Y axis\n",
        "\n",
        "# The next bit is a dictionary in which we will assign colors and markers\n",
        "# to the three groups. As long as the keys (the first values) are equal\n",
        "# to the study that is being plotted \n",
        "\n",
        "# Fill in the value associated with each key (the '') with an appropriate color \n",
        "# and marker so it looks like Figure 2. \n",
        "\n",
        "# Will you be that person who finds the exact \n",
        "\n",
        "color_dict = {'Callaghan (2012)': 'b',\n",
        "              'Other studies' : 'r',\n",
        "              'This study' : 'y'}\n",
        "marker_dict = {'Callaghan (2012)': \"^\",\n",
        "              'Other studies' : \"o\",\n",
        "              'This study' : 's'}\n",
        "\n",
        "\n",
        "# Now, fill in the appropriate x and y data with the column titles\n",
        "\n",
        "for site, group in df.groupby(by='Source_grouping'): \n",
        "    group.plot.scatter(x= 'MAP (cm/yr)', y='D (cm2/yr)',\n",
        "                       color=color_dict[site],marker=marker_dict[site],\n",
        "                       edgecolor='k', s=50,\n",
        "                       ax=ax[0])\n",
        "    group.plot.scatter(x= 'AI', y='D (cm2/yr)',\n",
        "                       color=color_dict[site],marker=marker_dict[site],\n",
        "                       edgecolor='k', s=50,\n",
        "                       ax=ax[1], legend=True, label=site)\n",
        "\n",
        "\n",
        "# Set the scale and range of your axes\n",
        "\n",
        "ax[0].set_yscale('log')\n",
        "ax[0].set_ylim(1E-1, 1E3)\n",
        "ax[0].set_xscale('log')\n",
        "ax[1].set_xscale('log')\n",
        "\n",
        "# Don't forget to make the label fancy with a superscript!\n",
        "ax[0].set_ylabel('D (cm$^2$/yr)')"
      ]
    },
    {
      "cell_type": "code",
      "execution_count": null,
      "metadata": {},
      "outputs": [],
      "source": []
    }
  ],
  "metadata": {
    "colab": {
      "collapsed_sections": [],
      "include_colab_link": true,
      "name": "How does climate (and other geologic factors) influence soil diffusion.ipynb",
      "provenance": []
    },
    "kernelspec": {
      "display_name": "Python 3",
      "name": "python3"
    },
    "language_info": {
      "codemirror_mode": {
        "name": "ipython",
        "version": 3
      },
      "file_extension": ".py",
      "mimetype": "text/x-python",
      "name": "python",
      "nbconvert_exporter": "python",
      "pygments_lexer": "ipython3",
      "version": "3.9.18"
    }
  },
  "nbformat": 4,
  "nbformat_minor": 0
}
