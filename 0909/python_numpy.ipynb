{
 "cells": [
  {
   "cell_type": "markdown",
   "metadata": {},
   "source": [
    "Originally created for an NAGT webinar and hosted in the repo [here](https://github.com/pycogss/pycogss-intro-to-pythonhttps://github.com/pycogss/pycogss-intro-to-python). Adapted for 437. "
   ]
  },
  {
   "cell_type": "markdown",
   "metadata": {},
   "source": [
    "# Introduction to Python for Geoscience"
   ]
  },
  {
   "cell_type": "markdown",
   "metadata": {},
   "source": [
    "## What is Python?\n",
    "[Python](https://docs.python.org/3/faq/general.html) is a programming language, which helps you deliver commands to a computer (and Ptyhon is a \"high-level\" language, which means that it looks more like human language instead of computer `beeps` and `boops`, which is good for us scientists). Python is a very popular language for many use cases and fields, and over the past decade it has been increasingly adopted by research scientists who write packages (more on that soon) to do their work (R is another language that scientists also like to use, but its packages have historically focused on statistics). It is also free to download and use, which is great and in contrast to Matlab, which is perhaps the other language that geoscientists may have encountered. It is indeed named after Monty Python's Flying Circus. "
   ]
  },
  {
   "cell_type": "markdown",
   "metadata": {},
   "source": [
    "## What is a Jupyter Notebook?"
   ]
  },
  {
   "cell_type": "markdown",
   "metadata": {},
   "source": [
    "A Jupyter Notebook is an interactive computing environment that allows you to create and share documents containing live code, equations, visualizations, and explanatory text.\n",
    "\n",
    "A Jupyter Notebook consists of cells. There are two main types of cells:\n",
    "\n",
    "<b>Code</b> cells are used to write and execute code. You can write Python code in these cells and run it by pressing Shift + Enter or clicking the \"Run\" button in the toolbar.\n",
    "\n",
    "<b>Markdown</b> cells are used to write text, formatted using Markdown syntax. You can write explanations, documentation, or even LaTeX equations in these cells."
   ]
  },
  {
   "cell_type": "code",
   "execution_count": null,
   "metadata": {},
   "outputs": [],
   "source": [
    "# This is a Python cell\n",
    "# I have \"commented out\" these lines which means the computer ignores them\n",
    "# With the pound symbol in front\n",
    "# If you hit Shift + Enter this cell will \"execute\""
   ]
  },
  {
   "cell_type": "markdown",
   "metadata": {},
   "source": [
    "This is a markdown cell. If you hit Shift + Enter it will turn it into text"
   ]
  },
  {
   "cell_type": "markdown",
   "metadata": {},
   "source": [
    "### An important note about excecuting cells in notebooks!"
   ]
  },
  {
   "cell_type": "markdown",
   "metadata": {},
   "source": [
    "When working with Jupyter Notebooks, the <b>order in which cells are executed matters</b>. This is a common pitfall for novice notebook users. Variables and their values are stored in memory and can be accessed and modified across different cells. If cells are not executed in order, the variable state might be different from what you expect, leading to errors or unexpected behavior. Code cells may depend on variables or functions defined in previous cells. If you skip executing certain cells or execute them out of order, you may encounter errors due to missing dependencies. \n",
    "\n",
    "My personal strategy for checking if all is going to plan is to \"restart\" the notebook, which clears all the stored variables, and run the whole thing through start to finish often in the creation process to make sure I haven't accidentally removed an important variable, etc. \n"
   ]
  },
  {
   "cell_type": "markdown",
   "metadata": {},
   "source": [
    "## How do I use this notebok?"
   ]
  },
  {
   "cell_type": "markdown",
   "metadata": {},
   "source": [
    "If you are reading this notebook on GitHub or another place where the notebook is just posted, you'll have to import the notebook into an environment that is running Python and the `notebook` package. This might be a local installation (via [miniconda](https://docs.anaconda.com/free/miniconda/index.html) or [Anaconda](https://docs.anaconda.com/free/navigator/index.html)), a [JupyterHub](https://jupyter.org/hub) you've been granted access to running in the cloud, or [Binder](https://mybinder.org/), [Google Colab](https://colab.research.google.com/) or something similar. \n",
    "\n",
    "Depending on where you have sent your notebook to be run you may have to choose a [kernel](https://docs.jupyter.org/en/latest/install/kernels.html) that has the `IPython` package installed - basically, you need to run your notebook in a Python environment that has the necessary notebook packages installed. Many notebook platforms do this automatically, but if you are running on a local install or in VS Code, you will have to choose a kernel. \n",
    "\n",
    "If you are using this notebook (you can execute the cells) then you are already somewhere where Python is installed - congrats!"
   ]
  },
  {
   "cell_type": "markdown",
   "metadata": {},
   "source": [
    "# Let's do some Python!"
   ]
  },
  {
   "cell_type": "markdown",
   "metadata": {},
   "source": [
    "Here we're going to look at a few examples of some of the fundamental concepts in Python:\n",
    "- **Variables**: Used to store data.\n",
    "- **Data Types**: Different types of data that can be stored in variables.\n",
    "- **Operators**: Symbols used to perform operations on variables and values.\n",
    "- **Control Flow**: Structures that control the flow of execution in a program, like loops and conditionals."
   ]
  },
  {
   "cell_type": "markdown",
   "metadata": {},
   "source": [
    "## Variables"
   ]
  },
  {
   "cell_type": "markdown",
   "metadata": {},
   "source": [
    "Variables are used to store data values. In Python, you can assign a value to a variable using the `=` operator. The variable name is on the left side, and the value you want to assign is on the right side.\n",
    "\n",
    "Let's create a variable to store the value of the acceleration due to gravity (`g`) in meters per second squared (m/s^2):"
   ]
  },
  {
   "cell_type": "code",
   "execution_count": null,
   "metadata": {},
   "outputs": [],
   "source": [
    "# Assigning a value to the variable g\n",
    "g = 9.81  # m/s^2 (acceleration due to gravity)"
   ]
  },
  {
   "cell_type": "code",
   "execution_count": null,
   "metadata": {},
   "outputs": [],
   "source": [
    "# Print the value of g\n",
    "print(g)"
   ]
  },
  {
   "cell_type": "markdown",
   "metadata": {},
   "source": [
    "## Data types"
   ]
  },
  {
   "cell_type": "markdown",
   "metadata": {},
   "source": [
    "Python supports various [data types](https://python-reference.readthedocs.io/en/latest/basic_data_types.html), including:\n",
    "\n",
    "- **Numeric Types**: Integers, floating-point numbers, and complex numbers.\n",
    "- **Sequence Types**: Lists, tuples, and range objects.\n",
    "- **Mapping Type**: Dictionaries.\n",
    "- **Boolean Type**: `True` or `False`.\n",
    "- **None Type**: Represents the absence of a value.\n",
    "\n",
    "Your data will dictate which data type(s) make the most sense, and without getting too deep into the computer science of it, some functions just won't work if you have the wrong data type. \n",
    "\n",
    "For example:\n",
    "- [integers](https://docs.python.org/3/library/functions.html#int) (`int`): Used for discrete quantities like counts of samples or observations, such as the number of trees in a forest plot.\n",
    "- [floating-point numbers](https://docs.python.org/3/library/functions.html#float) (`float`): Represent continuous measurements such as temperature, precipitation amounts, or chemical concentrations.\n",
    "- [lists](https://docs.python.org/3/tutorial/datastructures.html#more-on-lists) (`list`): Useful for storing ordered collections of data points, like time series of temperature readings or lists of soil properties at different depths. Lists can be [indexed](https://www.geeksforgeeks.org/python-list-index/) to give you only the values in the list you want for your application. \n",
    "- [dictionaries](https://docs.python.org/3/tutorial/datastructures.html#dictionaries) (`dict`): Used for holding metadata attributes (e.g., instrument specifications, geographic coordinates) associated with environmental measurements. They also are used for organizing and accessing information, such as referencing a list of properties of data point by its name."
   ]
  },
  {
   "cell_type": "code",
   "execution_count": null,
   "metadata": {},
   "outputs": [],
   "source": [
    "# Here is a list of floats\n",
    "temperatures = [20.5, 21.3, 22.1, 23.0, 24.5]\n",
    "\n",
    "temperatures"
   ]
  },
  {
   "cell_type": "code",
   "execution_count": null,
   "metadata": {},
   "outputs": [],
   "source": [
    "# We can index lists with putting the element number of the value we want in brackets\n",
    "# Note Python uses zero indexing (the 1 element is not the first element)\n",
    "# which is different from Matlab\n",
    "temperatures[1]"
   ]
  },
  {
   "cell_type": "code",
   "execution_count": null,
   "metadata": {},
   "outputs": [],
   "source": [
    "# Here is a dictionary of string and integer data\n",
    "unit = {'unit name': 'Tuscarora', 'thickness (m)': 200, 'age': 'Silurian'}\n",
    "\n",
    "unit"
   ]
  },
  {
   "cell_type": "markdown",
   "metadata": {},
   "source": [
    "## Operators"
   ]
  },
  {
   "cell_type": "markdown",
   "metadata": {},
   "source": [
    "Python supports various operators for performing operations on variables and values. Some common operators include:\n",
    "\n",
    "- **Arithmetic Operators**: `+`, `-`, `*`, `/`, `//` (floor division), `%` (modulus), `**` (exponentiation).\n",
    "- **Comparison Operators**: `==` (equal), `!=` (not equal), `<`, `>`, `<=`, `>=`.\n",
    "- **Logical Operators**: `and`, `or`, `not`.\n",
    "- **Assignment Operators**: `=`, `+=`, `-=` etc."
   ]
  },
  {
   "cell_type": "code",
   "execution_count": null,
   "metadata": {},
   "outputs": [],
   "source": [
    "# Arithmetic operators\n",
    "a = 10\n",
    "b = 3"
   ]
  },
  {
   "cell_type": "code",
   "execution_count": null,
   "metadata": {},
   "outputs": [],
   "source": [
    "# Addition\n",
    "print(a + b)  # Output: 13"
   ]
  },
  {
   "cell_type": "code",
   "execution_count": null,
   "metadata": {},
   "outputs": [],
   "source": [
    "# Subtraction\n",
    "print(a - b)  # Output: 7"
   ]
  },
  {
   "cell_type": "markdown",
   "metadata": {},
   "source": [
    "We will see below that you can do all sorts of operations with the `numpy` package. "
   ]
  },
  {
   "cell_type": "markdown",
   "metadata": {},
   "source": [
    "## Control Flow"
   ]
  },
  {
   "cell_type": "markdown",
   "metadata": {},
   "source": [
    "Control flow statements allow you to control the flow of execution in a program. Common control flow constructs include:\n",
    "\n",
    "- **Conditional Statements**: `if`, `elif`, `else`.\n",
    "- **Loops**: `for` loops, `while` loops.\n",
    "- **Break and Continue**: Used within loops to alter their behavior.\n",
    "\n",
    "These are useful if you are iteratively solving some equation or iterating through a list of data."
   ]
  },
  {
   "cell_type": "code",
   "execution_count": null,
   "metadata": {},
   "outputs": [],
   "source": [
    "x = 10\n",
    "\n",
    "# Here are your conditional statements\n",
    "if x > 5:\n",
    "    print(\"x is greater than 5\")\n",
    "else:\n",
    "    print(\"x is less than or equal to 5\")\n",
    "\n",
    "# And here is a for loop\n",
    "for i in range(5):\n",
    "    print(i)  "
   ]
  },
  {
   "cell_type": "markdown",
   "metadata": {},
   "source": [
    "# Numpy"
   ]
  },
  {
   "cell_type": "markdown",
   "metadata": {},
   "source": [
    "[`Numpy`](https://numpy.org/doc/stable/) is a fundamental library in Python used for numerical computing. It provides powerful tools for working with arrays and matrices, along with a vast collection of mathematical functions to operate on these arrays efficiently. Numpy is widely used in scientific computing. A beginner's guide is [here](https://numpy.org/doc/stable/user/absolute_beginners.html)!"
   ]
  },
  {
   "cell_type": "markdown",
   "metadata": {},
   "source": [
    "We must <b>import</b> `numpy` because it is a [package that is installed on top of Python.](https://docs.python.org/3/tutorial/modules.html)"
   ]
  },
  {
   "cell_type": "code",
   "execution_count": null,
   "metadata": {},
   "outputs": [],
   "source": [
    "import numpy"
   ]
  },
  {
   "cell_type": "markdown",
   "metadata": {},
   "source": [
    "You can then perform functions with the package by using the name of the package followed by a `.`. For example, you can use [`numpy.linspace()`](https://numpy.org/doc/stable/reference/generated/numpy.linspace.html) like this:"
   ]
  },
  {
   "cell_type": "code",
   "execution_count": null,
   "metadata": {},
   "outputs": [],
   "source": [
    "array = numpy.linspace(0,6,13)\n",
    "print(array)"
   ]
  },
  {
   "cell_type": "markdown",
   "metadata": {},
   "source": [
    "This creates a numpy `array`, which acts like a list but can be computed on more easily than Python lists. Check it out:"
   ]
  },
  {
   "cell_type": "code",
   "execution_count": null,
   "metadata": {},
   "outputs": [],
   "source": [
    "print(type(array))"
   ]
  },
  {
   "cell_type": "markdown",
   "metadata": {},
   "source": [
    "You may see people shortening the name of `numpy` to `np`, which can be achieved by renaming it when you import it. I'm using the [`np.arange()`](https://numpy.org/doc/stable/reference/generated/numpy.arange.html) function here. "
   ]
  },
  {
   "cell_type": "code",
   "execution_count": null,
   "metadata": {},
   "outputs": [],
   "source": [
    "import numpy as np\n",
    "another_array = np.arange(0.,6.,1) # Here the numbers are floats now!\n",
    "print(another_array)"
   ]
  },
  {
   "cell_type": "markdown",
   "metadata": {},
   "source": [
    "So when would you use `numpy`? Any time you want to compute data, there's probably a `numpy` function for that! (or in `scipy` or in `scikit-learn`, but you'll worry about those later...). \n",
    "\n",
    "Here is a pretend 2-dimensional digital elevation model (it's very small). And maybe we are [missing some data](https://numpy.org/doc/stable/user/misc.html) in it (the sensor failed momentarily?):"
   ]
  },
  {
   "cell_type": "code",
   "execution_count": null,
   "metadata": {},
   "outputs": [],
   "source": [
    "elevation_data = np.array([[100, 200, 150],\n",
    "                           [300, np.nan, 180],\n",
    "                           [220, 210, 190]])\n",
    "\n",
    "elevation_data"
   ]
  },
  {
   "cell_type": "markdown",
   "metadata": {},
   "source": [
    "This won't work because Python doesn't know how to handle that missing data:"
   ]
  },
  {
   "cell_type": "code",
   "execution_count": null,
   "metadata": {},
   "outputs": [],
   "source": [
    "max(elevation_data)"
   ]
  },
  {
   "cell_type": "markdown",
   "metadata": {},
   "source": [
    "You also cant just use the plain `np.max()` function either or else it'll spit out the missing value:"
   ]
  },
  {
   "cell_type": "code",
   "execution_count": null,
   "metadata": {},
   "outputs": [],
   "source": [
    "np.max(elevation_data)"
   ]
  },
  {
   "cell_type": "markdown",
   "metadata": {},
   "source": [
    "Instead you have to use the [`np.nanmax()`](https://numpy.org/doc/stable/reference/generated/numpy.nanmax.html) to find the largest non-NaN elevation value:"
   ]
  },
  {
   "cell_type": "code",
   "execution_count": null,
   "metadata": {},
   "outputs": [],
   "source": [
    "np.nanmax(elevation_data)"
   ]
  },
  {
   "cell_type": "markdown",
   "metadata": {},
   "source": [
    "Little things like that make `numpy` a powerful tool to cut through messy data to get the answer you want without doing anything by hand. "
   ]
  },
  {
   "cell_type": "markdown",
   "metadata": {},
   "source": [
    "# Next steps"
   ]
  },
  {
   "cell_type": "markdown",
   "metadata": {},
   "source": [
    "You don't have to turn this notebook in, only the second notebook (`numpy_matplotlib.ipynb`)"
   ]
  }
 ],
 "metadata": {
  "kernelspec": {
   "display_name": "test",
   "language": "python",
   "name": "python3"
  },
  "language_info": {
   "codemirror_mode": {
    "name": "ipython",
    "version": 3
   },
   "file_extension": ".py",
   "mimetype": "text/x-python",
   "name": "python",
   "nbconvert_exporter": "python",
   "pygments_lexer": "ipython3",
   "version": "3.10.6"
  }
 },
 "nbformat": 4,
 "nbformat_minor": 2
}
