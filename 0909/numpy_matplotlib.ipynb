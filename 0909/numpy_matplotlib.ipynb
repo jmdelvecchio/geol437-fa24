{
 "cells": [
  {
   "cell_type": "markdown",
   "metadata": {},
   "source": [
    "Originally created for onboarding in the Computational Geomorphology Lab with repo [here](https://github.com/pycogss/getting-started/tree/main). Adapted for 437. "
   ]
  },
  {
   "cell_type": "markdown",
   "metadata": {},
   "source": [
    "# Data basics"
   ]
  },
  {
   "cell_type": "markdown",
   "metadata": {},
   "source": [
    "# Python and `numpy`"
   ]
  },
  {
   "cell_type": "markdown",
   "metadata": {},
   "source": [
    "Although there are **many** resources out there for Python and `numpy`, I will only direct you to a few:\n",
    "1. The [official documentation](https://docs.python.org/3/tutorial/index.html) is always a great resource, but may overwhelm a novice and includes aspects that will be less important for your first tasks. \n",
    "2. [Software Carpentry](https://swcarpentry.github.io/python-novice-inflammation/01-intro.html) provides an excellent introduction for novice coders interested in scientific applications. \n",
    "3. A data-science oriented [cheat sheet](https://www.datacamp.com/cheat-sheet/getting-started-with-python-cheat-sheet). \n",
    "\n",
    "To complete the following task, I recommend going *backwards* through these resources (try to use the cheat sheet, then Software Carpentry etc) and/or utilizing Google searches."
   ]
  },
  {
   "cell_type": "markdown",
   "metadata": {},
   "source": [
    "## Mini-assignment 1:"
   ]
  },
  {
   "cell_type": "markdown",
   "metadata": {},
   "source": [
    "Let's say I wrote down some climate data and I'm typing it up as a [list](https://docs.python.org/3/tutorial/datastructures.html), and I want to convert to Celcius"
   ]
  },
  {
   "cell_type": "code",
   "execution_count": null,
   "metadata": {},
   "outputs": [],
   "source": [
    "import numpy as np  # Import NumPy for data manipulation\n",
    "\n",
    "day = [1, 2, 3, 4, 5]\n",
    "temp = [60, 65, 68, 61, 58]\n",
    "humidity = [20, 25, 32, 28, 25]\n"
   ]
  },
  {
   "cell_type": "code",
   "execution_count": null,
   "metadata": {},
   "outputs": [],
   "source": [
    "temp_c = (temp - 32) * (5/9)"
   ]
  },
  {
   "cell_type": "markdown",
   "metadata": {},
   "source": [
    "Why doesn't this work?"
   ]
  },
  {
   "cell_type": "markdown",
   "metadata": {},
   "source": [
    "What if we convert our lists to [arrays](https://numpy.org/doc/stable/reference/generated/numpy.array.html)?"
   ]
  },
  {
   "cell_type": "code",
   "execution_count": null,
   "metadata": {},
   "outputs": [],
   "source": [
    "day_arr = np.array(day)\n",
    "\n",
    "# Continue the script so that you can perform the following conversion:\n",
    "\n",
    "temp_c = "
   ]
  },
  {
   "cell_type": "markdown",
   "metadata": {},
   "source": [
    "## Mini-assignment 2"
   ]
  },
  {
   "cell_type": "markdown",
   "metadata": {},
   "source": [
    "Print the **humidity** value that corresponds to the highest **temperature** value in one line of code. Do this once for the *list* version of the data and once for the *array* version of the data. "
   ]
  },
  {
   "cell_type": "code",
   "execution_count": null,
   "metadata": {},
   "outputs": [],
   "source": [
    "# Your code here"
   ]
  },
  {
   "cell_type": "markdown",
   "metadata": {},
   "source": [
    "# Using `numpy` functions to generate synthetic data"
   ]
  },
  {
   "cell_type": "markdown",
   "metadata": {},
   "source": [
    "In Python, functions are reusable blocks of code that perform specific tasks.You can define a function using the `def` keyword, followed by the function's name and parentheses, which can include <b>parameters</b> (inputs) that the function will use. After defining the function, you can \"call\" it by using its name followed by parentheses, optionally passing in arguments (values) for the parameters. Functions can also return a value using the `return` statement, allowing you to capture the result and use it elsewhere in your code.\n",
    "\n",
    "Here is an example of a super-simple function:"
   ]
  },
  {
   "cell_type": "code",
   "execution_count": null,
   "metadata": {},
   "outputs": [],
   "source": [
    "def add_value(data, value):\n",
    "    return data + value"
   ]
  },
  {
   "cell_type": "code",
   "execution_count": null,
   "metadata": {},
   "outputs": [],
   "source": [
    "x = np.arange(0,20,1)\n",
    "\n",
    "# Do you remember what np.arange() does?\n",
    "\n",
    "x_new = add_value(x, 3)\n",
    "\n",
    "print(x_new)"
   ]
  },
  {
   "cell_type": "markdown",
   "metadata": {},
   "source": [
    "Consider how you can use the `random` module within `numpy` to artificially generate noise in an existing signal"
   ]
  },
  {
   "cell_type": "code",
   "execution_count": null,
   "metadata": {},
   "outputs": [],
   "source": [
    "x = np.arange(0,20,1)\n",
    "y = np.arange(10,30,1)\n",
    "\n",
    "def add_noise(data, magnitude):\n",
    "    # the * in front of np.shape unpacks the tupe...don't worry about that\n",
    "    return data + (np.random.rand(*np.shape(data)) * magnitude)\n",
    "\n",
    "y_noise = add_noise(y, 1)"
   ]
  },
  {
   "cell_type": "code",
   "execution_count": null,
   "metadata": {},
   "outputs": [],
   "source": [
    "print(y_noise)"
   ]
  },
  {
   "cell_type": "markdown",
   "metadata": {},
   "source": [
    "What happens if you change the `magnitude` argument in the `add_noise` function?"
   ]
  },
  {
   "cell_type": "code",
   "execution_count": null,
   "metadata": {},
   "outputs": [],
   "source": [
    "# Your answer here"
   ]
  },
  {
   "cell_type": "markdown",
   "metadata": {},
   "source": [
    "Now I am going to get tricky here and model annual temperature as a sine wave for us to play with. "
   ]
  },
  {
   "cell_type": "code",
   "execution_count": null,
   "metadata": {},
   "outputs": [],
   "source": [
    "def annual_temperature(day, amplitude, avg_temp, hottest_day_of_year):\n",
    "    \"\"\"\n",
    "    Here's some docs for this function:\n",
    "    This simulates annual temperature! You can change these parameters:\n",
    "\n",
    "    amplitude = 10  # Annual range of temperature in C\n",
    "    avg_temp = 15  # In C\n",
    "    hottest_day_of_year = 201  # July 20th is the hottest day of the year\n",
    "    \"\"\"\n",
    "    return amplitude * np.sin((2 * np.pi / 365) * (day - hottest_day_of_year + 365/4)) + avg_temp"
   ]
  },
  {
   "cell_type": "markdown",
   "metadata": {},
   "source": [
    "Let's spin this neat \"\"model\"\" up!"
   ]
  },
  {
   "cell_type": "code",
   "execution_count": null,
   "metadata": {},
   "outputs": [],
   "source": [
    "day = np.arange(1,366,1) # list of days of the year\n",
    "\n",
    "amplitude = 10  # Annual range of temperature in C\n",
    "avg_temp = 15  # In C\n",
    "hottest_day_of_year = 201  # July 20th is the hottest day of the year\n",
    "\n",
    "temperature_data = annual_temperature(day, amplitude, avg_temp, hottest_day_of_year)\n"
   ]
  },
  {
   "cell_type": "markdown",
   "metadata": {},
   "source": [
    "Now you have a big long array of temperatures!"
   ]
  },
  {
   "cell_type": "code",
   "execution_count": null,
   "metadata": {},
   "outputs": [],
   "source": [
    "temperature_data"
   ]
  },
  {
   "cell_type": "markdown",
   "metadata": {},
   "source": [
    "## Mini-assignment 3"
   ]
  },
  {
   "cell_type": "markdown",
   "metadata": {},
   "source": [
    "Using the examples above, let's make the synthetic temperature data a little more realistic by introducing random noise to the daily temperature. Generate a `daily_temperature` array with realistic-looking variability!"
   ]
  },
  {
   "cell_type": "code",
   "execution_count": null,
   "metadata": {},
   "outputs": [],
   "source": [
    "# Your code here"
   ]
  },
  {
   "cell_type": "markdown",
   "metadata": {},
   "source": [
    "And now, generate a year's worth of random precipitation data. Get creative - is there a seasonality to your synthetic data?"
   ]
  },
  {
   "cell_type": "code",
   "execution_count": null,
   "metadata": {},
   "outputs": [],
   "source": [
    "# Your code here\n",
    "precipitation = add_noise(np.ones_like(day), 3)"
   ]
  },
  {
   "cell_type": "markdown",
   "metadata": {},
   "source": [
    "# `matplotlib`"
   ]
  },
  {
   "cell_type": "markdown",
   "metadata": {},
   "source": [
    "`pyplot` is the basic plotting package for Python and strongly resembles that of MATLAB. Good introductions are [here](https://matplotlib.org/stable/tutorials/pyplot.html) and [here](https://matplotlib.org/stable/users/explain/quick_start.html). "
   ]
  },
  {
   "cell_type": "code",
   "execution_count": null,
   "metadata": {},
   "outputs": [],
   "source": [
    "import matplotlib.pyplot as plt  # Import matplotlib for plotting"
   ]
  },
  {
   "cell_type": "markdown",
   "metadata": {},
   "source": [
    "We can now use the `plt` module we loaded to make a simple plot. You can always [read the docs](https://matplotlib.org/stable/api/_as_gen/matplotlib.pyplot.plot.html) to understand the arguments that plotting functions take. (And you *find* the docs by searching \"matplotlib [function]\")"
   ]
  },
  {
   "cell_type": "code",
   "execution_count": null,
   "metadata": {},
   "outputs": [],
   "source": [
    "plt.plot(day, temperature_data)"
   ]
  },
  {
   "cell_type": "markdown",
   "metadata": {},
   "source": [
    "## Mini-assignment 4"
   ]
  },
  {
   "cell_type": "markdown",
   "metadata": {},
   "source": [
    "Create a [scatter](https://matplotlib.org/stable/api/_as_gen/matplotlib.pyplot.scatter.html) plot of your realistic temperature data (with the noise) over time with points colored by precipitation. Most plotting functions allow you to specify a `c` axis that colors certain datapoints to be a third data axis for data-rich plots. When you do that you'll want to add a [colorbar](https://matplotlib.org/stable/api/_as_gen/matplotlib.pyplot.colorbar.html) so your viewers know what they're looking at. \n",
    "\n",
    "I'll get you started:"
   ]
  },
  {
   "cell_type": "code",
   "execution_count": null,
   "metadata": {},
   "outputs": [],
   "source": [
    "# Specify the \"c\" keyword to add precipitation data as colors!\n",
    "plt.scatter(???, ???, c=???)\n",
    "\n",
    "\n",
    "# Call the \"colorbar()\" class to add a colorbar!\n",
    "plt.colorbar(label=\"precipitation\")\n",
    "\n",
    "# Set the title of the plot\n",
    "plt.title('??')\n",
    "\n",
    "# Label the x-axis\n",
    "plt.xlabel('??')\n",
    "\n",
    "# Label the y-axis\n",
    "plt.ylabel('???')"
   ]
  },
  {
   "cell_type": "markdown",
   "metadata": {},
   "source": [
    "## Using `plt.plot()`"
   ]
  },
  {
   "cell_type": "markdown",
   "metadata": {},
   "source": [
    "In Matplotlib, both plt.figure() and fig, ax = plt.subplots() are used to create figures for object-oriented plotting, but they have different use cases and behaviors:\n",
    "\n",
    "`plt.figure()`:\n",
    "\n",
    "- `plt.figure()` is used to create a single figure object, and it returns a reference to that figure. This figure can contain one or more subplots (Axes).\n",
    "\n",
    "- When you create plots using `plt.plot()`, `plt.scatter()`, etc., without explicitly specifying an Axes object, Matplotlib will automatically create an Axes within the current figure.\n",
    "\n",
    "- It is useful when you want to create a single plot without multiple subplots, and you are not concerned about creating multiple axes explicitly.\n",
    "\n",
    "Here, we will create a `figure` object"
   ]
  },
  {
   "cell_type": "code",
   "execution_count": null,
   "metadata": {},
   "outputs": [],
   "source": [
    "# Create a figure with a specific size (10x6 inches)\n",
    "plt.figure(figsize=(10, 6))\n",
    "\n",
    "# Create a line plot using time on the x-axis and temperature on the y-axis\n",
    "# Customize the plot with blue color, circular markers, solid lines, and marker size\n",
    "plt.plot(day, ???, color='blue', marker='o', linestyle='-', markersize=4)\n",
    "\n",
    "# Set the title of the plot\n",
    "plt.title('Temperature Over Time')\n",
    "\n",
    "# Label the x-axis\n",
    "plt.xlabel('Time')\n",
    "\n",
    "# Label the y-axis\n",
    "plt.ylabel('Temperature (°C)')\n"
   ]
  },
  {
   "cell_type": "markdown",
   "metadata": {},
   "source": [
    "Note we can do things like [set the limits of axes](https://matplotlib.org/stable/api/_as_gen/matplotlib.pyplot.ylim.html):"
   ]
  },
  {
   "cell_type": "code",
   "execution_count": null,
   "metadata": {},
   "outputs": [],
   "source": [
    "# Create a figure with a specific size (10x6 inches)\n",
    "plt.figure(figsize=(10, 6))\n",
    "\n",
    "# Create a line plot using time on the x-axis and temperature on the y-axis\n",
    "# Customize the plot with blue color, circular markers, solid lines, and marker size\n",
    "plt.plot(day, ???, color='blue', marker='o', linestyle='-', markersize=4)\n",
    "\n",
    "# Set the title of the plot\n",
    "plt.title('Temperature Over Time')\n",
    "\n",
    "# Label the x-axis\n",
    "plt.xlabel('Time')\n",
    "\n",
    "# Set axis limits from 0 to 100\n",
    "plt.ylim(0, 100)\n",
    "\n",
    "# Label the y-axis\n",
    "plt.ylabel('Temperature (°C)')"
   ]
  },
  {
   "cell_type": "markdown",
   "metadata": {},
   "source": [
    "## Using `ax` objects"
   ]
  },
  {
   "cell_type": "markdown",
   "metadata": {},
   "source": [
    "In contrast, we can use `fig, ax = plt.subplots()`:\n",
    "\n",
    "- Multiple Subplots: `plt.subplots()` is used to create a figure (Fig) and one or more subplots (Axes) within that figure. It returns both the figure and an array of Axes objects.\n",
    "\n",
    "- Explicit Axes: You explicitly create and specify the Axes objects when using `fig, ax = plt.subplots()`. This allows you to have more control over the placement and arrangement of subplots.\n",
    "\n",
    "- Usage: It is useful when you need to create multiple subplots within a single figure, such as creating a grid of plots.\n",
    "\n",
    "A main difference is that the syntax for customizing `ax` objects will often include \"`set_`\" as in `set_xlabel()` as opposed to just `plt.xlabel()`\n",
    "\n",
    "But you don't need to create multiple plots if you don't want to:"
   ]
  },
  {
   "cell_type": "code",
   "execution_count": null,
   "metadata": {},
   "outputs": [],
   "source": [
    "# Create a fig and ax object\n",
    "fig, ax = plt.subplots(figsize=(10, 6))\n",
    "\n",
    "# Plot something on the ax object\n",
    "ax.plot(day, ???, color='blue', marker='o', linestyle='-', markersize=4)\n",
    "\n",
    "# Set the title of the axis\n",
    "ax.set_title('Temperature Over Time')\n",
    "\n",
    "# Label the x-axis\n",
    "ax.set_xlabel('Time')\n",
    "\n",
    "# Label the y-axis\n",
    "ax.set_ylabel('Temperature (°C)')\n"
   ]
  },
  {
   "cell_type": "markdown",
   "metadata": {},
   "source": [
    "## Mini-assignment 5"
   ]
  },
  {
   "cell_type": "markdown",
   "metadata": {},
   "source": [
    "Make two separate plots for the simple and noisy temperature data. "
   ]
  },
  {
   "cell_type": "code",
   "execution_count": null,
   "metadata": {},
   "outputs": [],
   "source": [
    "#Create a fig and ax object\n",
    "fig, ax = plt.subplots(1,2, figsize=(10,6), sharey=True)\n",
    "\n",
    "# Now you have an ax object that has two objects in it\n",
    "# ax[0] is the zeroeth (first) element, ax[1] is the first element, etc. \n",
    "\n",
    "# Plot something on the ax object\n",
    "ax[0].plot(day, ???,  color='???', marker='o', linestyle='-', markersize=4)\n",
    "\n",
    "# Plot something on the ax object\n",
    "ax[1].plot(day, ???,  color='???', marker='o', linestyle='-', markersize=4)\n",
    "\n",
    "# # Set the title of the axis\n",
    "\n",
    "# # Label the x-axes\n",
    "\n",
    "# # Label the y-axis\n"
   ]
  },
  {
   "cell_type": "code",
   "execution_count": null,
   "metadata": {},
   "outputs": [],
   "source": [
    "# Note that they can be displayed on the same plot\n",
    "# It just depends on what you want to show\n",
    "\n",
    "# Create a fig and ax object\n",
    "fig, ax = plt.subplots(figsize=(10, 6))\n",
    "\n",
    "# Plot something on the ax object\n",
    "ax.plot(day, ???, color='???', marker='o', linestyle='-', markersize=4)\n",
    "ax.plot(day, ???, color='???', marker='o', linestyle='-', markersize=4)"
   ]
  },
  {
   "cell_type": "markdown",
   "metadata": {},
   "source": [
    "# Real data!"
   ]
  },
  {
   "cell_type": "markdown",
   "metadata": {},
   "source": [
    "The following is a way of reading in real weather station data from January 1 to December 31, 2022. \n",
    "\n",
    "Note that after next week you will probably never not use `pandas` to do this, so bear with me (hah, pandas, bear...)"
   ]
  },
  {
   "cell_type": "code",
   "execution_count": 60,
   "metadata": {},
   "outputs": [],
   "source": [
    "precipitation = np.genfromtxt('williamsburg_meteo.csv', delimiter=',', usecols=[4], skip_header=True)\n",
    "tmax = np.genfromtxt('williamsburg_meteo.csv', delimiter=',', usecols=[5], skip_header=True)\n",
    "tmin = np.genfromtxt('williamsburg_meteo.csv', delimiter=',', usecols=[6], skip_header=True)"
   ]
  },
  {
   "cell_type": "markdown",
   "metadata": {},
   "source": [
    "Your in-class assignment will constitute plotting these data and creating <b>deliverables</b> from these data. "
   ]
  },
  {
   "cell_type": "code",
   "execution_count": null,
   "metadata": {},
   "outputs": [],
   "source": [
    "# Code here!"
   ]
  },
  {
   "cell_type": "markdown",
   "metadata": {},
   "source": [
    "# Week 2 deliverables"
   ]
  },
  {
   "cell_type": "markdown",
   "metadata": {},
   "source": [
    "Bringing all your knowledge together, \n",
    "- Show in a single plot the maximum and minimum temperature throughout the year, colored in an inuitive way. \n",
    "- Create a figure that shows both a line plot (which cannot be colored by another variable) and a scatter plot (which can be colored) that shows time series data of your choice.\n",
    "- Create a scatterplot with one dataset against another where the `x` axis is <b>not</b> time/day of year. \n",
    "- Using `numpy`, print out the minimum and maximum temperatures of the five rainiest days of the record. \n",
    "\n",
    "Your `.ipynb` file must be executable by me on my computer in order with no errors. You must have mini-assignments completed. You must add any URLs that help you as comments in your code blocks. Your plots must be publication-worthy (axes and colormaps labeled).\n",
    "\n"
   ]
  }
 ],
 "metadata": {
  "kernelspec": {
   "display_name": "bog_ms",
   "language": "python",
   "name": "python3"
  },
  "language_info": {
   "codemirror_mode": {
    "name": "ipython",
    "version": 3
   },
   "file_extension": ".py",
   "mimetype": "text/x-python",
   "name": "python",
   "nbconvert_exporter": "python",
   "pygments_lexer": "ipython3",
   "version": "3.9.18"
  }
 },
 "nbformat": 4,
 "nbformat_minor": 2
}
