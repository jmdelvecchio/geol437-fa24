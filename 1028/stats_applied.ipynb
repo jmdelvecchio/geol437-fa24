{
 "cells": [
  {
   "attachments": {},
   "cell_type": "markdown",
   "metadata": {},
   "source": [
    "# Using statistical methods with messy data"
   ]
  },
  {
   "attachments": {},
   "cell_type": "markdown",
   "metadata": {},
   "source": [
    "For this activity we will look at a very real example of how one of my previous students Sade and I bring together all sorts of exploratory data analysis and tons of different kinds of Python packages - from mathematical packages like `numpy` and `scipy` to data analysis and visualization tools like `pandas` and `seaborn` to geospaital tools in `geopandas`. "
   ]
  },
  {
   "cell_type": "code",
   "execution_count": 54,
   "metadata": {},
   "outputs": [],
   "source": [
    "import numpy as np\n",
    "import pandas as pd\n",
    "import matplotlib.pyplot as plt\n",
    "import matplotlib as mpl\n",
    "\n",
    "import geopandas as gpd\n",
    "import seaborn as sns\n",
    "\n",
    "import scipy as sp\n",
    "from scipy import stats"
   ]
  },
  {
   "attachments": {},
   "cell_type": "markdown",
   "metadata": {},
   "source": [
    "You may remember creating a shapefile with CALM data (`CALM_points.shp`) - let's put it to use here. "
   ]
  },
  {
   "attachments": {},
   "cell_type": "markdown",
   "metadata": {},
   "source": [
    "# How is the active layer changing every year?"
   ]
  },
  {
   "attachments": {},
   "cell_type": "markdown",
   "metadata": {},
   "source": [
    "So now we have measurements of the active layer thickness (ALT) for each site, but we're going to have to get a little clever here if we want to examine the **trend** in ALT. Data-management-wise, each site has its own unique dataset issues - some sites are missing most years, some sites have data gaps. We need to:\n",
    "- (1) first clean up the data prior to any trend-finding\n",
    "- (2) once the data are clean, we want to find the **trend** in ALT\n",
    "\n",
    "I am going to show you how to get a **linear regression** to the available data:"
   ]
  },
  {
   "attachments": {},
   "cell_type": "markdown",
   "metadata": {},
   "source": [
    "## Here is an algorithm that grabs an x and y array for years and measurements"
   ]
  },
  {
   "cell_type": "code",
   "execution_count": 55,
   "metadata": {},
   "outputs": [],
   "source": [
    "data = gpd.read_file(\"../1007/CALM_points.shp\")\n"
   ]
  },
  {
   "cell_type": "code",
   "execution_count": 56,
   "metadata": {},
   "outputs": [],
   "source": [
    "year_names = np.arange(1990, 2016, 1)\n",
    "\n",
    "for sites in range(len(data)): # for all the rows in our dataset\n",
    "\n",
    "  y_floats = np.array(data.iloc[sites, 6:32].values, dtype=float) # read in the data from columns that are yearly ALT measurements as floats\n",
    "\n",
    "  y = y_floats[~np.isnan(y_floats)] # find the indices for which that year's measurement is NOT a nan\n",
    "\n",
    "  x = year_names[~np.isnan(y_floats)] # find the corresponding years for valid data \n",
    "\n",
    "  if np.sum([np.isnan(y)==False])>10: # if there are at least 10 valid measurements for the time period\n",
    "\n",
    "    data.loc[(sites, \"average\")] = np.mean(y) # grab the mean of those measurements\n",
    "\n",
    "    res = stats.linregress(x,y) # and regress the year array against the measurement array \n",
    "    # res is the result of the linregress function and spits out a list of important numbers\n",
    "\n",
    "    data.loc[(sites, \"slope\")] = res[0] # ...and store all that data in our data frame\n",
    "    data.loc[(sites, \"intercept\")] = res[1]\n",
    "    data.loc[(sites, \"rvalue\")] = res[2]\n",
    "    data.loc[(sites, \"pvalue\")] = res[3]\n",
    "    data.loc[(sites, \"stderr\")] = res[4]\n",
    "  else: # if we don't have enough valid data, go to the next row\n",
    "    continue"
   ]
  },
  {
   "attachments": {},
   "cell_type": "markdown",
   "metadata": {},
   "source": [
    "Now what do we have?"
   ]
  },
  {
   "cell_type": "code",
   "execution_count": null,
   "metadata": {},
   "outputs": [],
   "source": [
    "data.head()"
   ]
  },
  {
   "cell_type": "markdown",
   "metadata": {},
   "source": [
    "## Your turn!"
   ]
  },
  {
   "cell_type": "markdown",
   "metadata": {},
   "source": [
    "(1) Describe in a paragraph (3-4 sentences) **what** the above code does and **why** we have done this (i.e. what does a linear regression do to help answer the question of how ALT is changing over time)."
   ]
  },
  {
   "cell_type": "markdown",
   "metadata": {},
   "source": [
    "*Your text here*"
   ]
  },
  {
   "cell_type": "markdown",
   "metadata": {},
   "source": [
    "(2) Please make a data visualization using the `slope` column as a **dependent variable** in the resulting dataframe and `Latitude` as the **independent variable**. You can choose any plotting package and style ou wish, but the visualization should help answer the question \"How has active layer thickness changed over the study period, and what factors affect that change?\". **Be sure to include axis labels *with proper units*!**"
   ]
  },
  {
   "cell_type": "code",
   "execution_count": 58,
   "metadata": {},
   "outputs": [],
   "source": [
    "# Your code here"
   ]
  },
  {
   "attachments": {},
   "cell_type": "markdown",
   "metadata": {},
   "source": [
    "Let's see what this looks like"
   ]
  },
  {
   "cell_type": "code",
   "execution_count": null,
   "metadata": {},
   "outputs": [],
   "source": [
    "# GeoPandas has a simple map of the Earth built in\n",
    "world = gpd.read_file(gpd.datasets.get_path('naturalearth_lowres'))\n",
    "\n",
    "fig, ax = plt.subplots(figsize=(5,5),dpi=300)\n",
    "im = world.plot(\n",
    "    color='white', edgecolor='black', ax=ax)\n",
    "\n",
    "result = data.plot(\n",
    "        ax=ax,\n",
    "        column='slope',\n",
    "        vmin=-2,\n",
    "        vmax=2,\n",
    "        cmap='seismic',\n",
    "        s=10, #size of point\n",
    "        legend=True,\n",
    "        legend_kwds={\n",
    "            'label': \"what's a good colorbar label?\",\n",
    "            'orientation': \"horizontal\"\n",
    "            }\n",
    "        )\n",
    "\n",
    "ax.set_ylim(40,90)\n",
    "\n",
    "ax.set_ylabel(\"ylabel\")\n",
    "ax.set_xlabel(\"xlabel\")"
   ]
  },
  {
   "attachments": {},
   "cell_type": "markdown",
   "metadata": {},
   "source": [
    "I will leave [axis labeling](https://matplotlib.org/stable/api/axes_api.html) to you :)"
   ]
  },
  {
   "attachments": {},
   "cell_type": "markdown",
   "metadata": {},
   "source": [
    "# Spatial join with permafrost data"
   ]
  },
  {
   "attachments": {},
   "cell_type": "markdown",
   "metadata": {},
   "source": [
    "We will perform a [spatial join](https://geopandas.org/en/stable/gallery/spatial_joins.html) to determine within which permafrost category each of these data points fall. Permafrost extent tells you the general temperature of the area: continuous permafrost is in the coldest parts of the world, followed by discontinuous, sporadic, and isolated."
   ]
  },
  {
   "cell_type": "code",
   "execution_count": 60,
   "metadata": {},
   "outputs": [],
   "source": [
    "permaice = gpd.read_file(\"permaice_simple.shp\")\n",
    "\n",
    "joined_data = data.to_crs(permaice.crs).sjoin(permaice, how=\"inner\") "
   ]
  },
  {
   "attachments": {},
   "cell_type": "markdown",
   "metadata": {},
   "source": [
    "Let's check out the result:"
   ]
  },
  {
   "cell_type": "code",
   "execution_count": null,
   "metadata": {},
   "outputs": [],
   "source": [
    "joined_data"
   ]
  },
  {
   "attachments": {},
   "cell_type": "markdown",
   "metadata": {},
   "source": [
    "# Visualize and analyze results"
   ]
  },
  {
   "attachments": {},
   "cell_type": "markdown",
   "metadata": {},
   "source": [
    "I asked Sade, \"Ok, so is continuous permafrost thawing faster or slower than discontinuous permafrost?\" Let's see what she came up with:"
   ]
  },
  {
   "cell_type": "code",
   "execution_count": 62,
   "metadata": {},
   "outputs": [],
   "source": [
    "# Make individual data frames for each extent category - it's just a little easier this way\n",
    "df_cont=joined_data.loc[joined_data['EXTENT']=='C']\n",
    "df_discont=joined_data.loc[joined_data['EXTENT']=='D']\n",
    "df_iso=joined_data.loc[joined_data['EXTENT']=='I']\n",
    "df_spor=joined_data.loc[joined_data['EXTENT']=='S']\n",
    "\n",
    "# And make them a list\n",
    "df_extent_list=[df_cont,df_discont,df_iso,df_spor]"
   ]
  },
  {
   "attachments": {},
   "cell_type": "markdown",
   "metadata": {},
   "source": [
    "Next, she wrote a function to plot each type of permafrost in one of the four plot boxes"
   ]
  },
  {
   "cell_type": "code",
   "execution_count": 63,
   "metadata": {},
   "outputs": [],
   "source": [
    "def plot_site_timeseries(df, axis):\n",
    "  for sites in range(len(df)):\n",
    "    y_floats = np.array(df.iloc[sites, 6:32].values, dtype=float)\n",
    "    y = y_floats[~np.isnan(y_floats)]\n",
    "    x = year_names[~np.isnan(y_floats)]\n",
    "    if np.sum([np.isnan(y)==False])>10:\n",
    "      fig=sns.regplot(x=x,y=y, ax=axis, \n",
    "                      color= color_dict[df.iloc[sites]['EXTENT']], scatter_kws={'alpha':0.5, \"s\":.25}, line_kws={\"lw\":.25})\n",
    "    else:\n",
    "      continue\n",
    "      # fig.set(xlabel='Year', ylabel='Active Layer Thickness', title ='Change in ALT from 1991-2015', ylim=(0, 200)"
   ]
  },
  {
   "attachments": {},
   "cell_type": "markdown",
   "metadata": {},
   "source": [
    "And then ran that function on each category for a figure!"
   ]
  },
  {
   "cell_type": "code",
   "execution_count": null,
   "metadata": {},
   "outputs": [],
   "source": [
    "# This is a color dictionary that tells the function which color to make which category\n",
    "color_dict = {'C':'r', 'D':'g', 'I':'b' , 'S':'k', 'no_data':'grey'}\n",
    "\n",
    "fig, ax = plt.subplots(2,2, dpi=150)\n",
    "\n",
    "# Each category got a call and a designated axis\n",
    "plot_site_timeseries(df_extent_list[0], ax[0,0])\n",
    "plot_site_timeseries(df_extent_list[1], ax[0,1])\n",
    "plot_site_timeseries(df_extent_list[2], ax[1,0])\n",
    "plot_site_timeseries(df_extent_list[3], ax[1,1])\n",
    "\n",
    "# These are setting labels\n",
    "ax[0,0].set_title('Change in Active Layer Thickness in Continuous Permafrost', fontsize=6)\n",
    "ax[0,0].set_ylabel('Active Layer Thickness in cm',fontsize=6)\n",
    "ax[0,0].set_xlabel('Year',fontsize=6)\n",
    "ax[0,0].tick_params(axis='both', which='major', labelsize=5)\n",
    "ax[0,1].set_title('Change in Active Layer Thickness in Discontinuous Permafrost', fontsize=6)\n",
    "ax[0,1].set_ylabel('Active Layer Thickness in cm',fontsize=6)\n",
    "ax[0,1].set_xlabel('Year',fontsize=6)\n",
    "ax[0,1].tick_params(axis='both', which='major', labelsize=5)\n",
    "ax[1,0].set_title('Change in Active Layer Thickness in Isolated Permafrost', fontsize=6)\n",
    "ax[1,0].set_ylabel('Active Layer Thickness in cm',fontsize=6)\n",
    "ax[1,0].set_xlabel('Year',fontsize=6)\n",
    "ax[1,0].tick_params(axis='both', which='major', labelsize=5)\n",
    "ax[1,1].set_title('Change in Active Layer Thickness in Spororatic Permafrost', fontsize=6)\n",
    "ax[1,1].set_ylabel('Active Layer Thickness in cm',fontsize=6)\n",
    "ax[1,1].set_xlabel('Year',fontsize=6)\n",
    "ax[1,1].tick_params(axis='both', which='major', labelsize=5)\n",
    "plt.tight_layout()"
   ]
  },
  {
   "cell_type": "markdown",
   "metadata": {},
   "source": [
    "# Your turn!"
   ]
  },
  {
   "cell_type": "markdown",
   "metadata": {},
   "source": [
    "I would like you to use **one visualization** that tries to answer the question: \"Are warmer or colder places thawing more rapidly?\"  Be sure to use **proper axis labels** for your data. Help your argument by performing a statistical test like a [t-test](https://docs.scipy.org/doc/scipy/reference/generated/scipy.stats.ttest_ind.html)."
   ]
  },
  {
   "cell_type": "code",
   "execution_count": 65,
   "metadata": {},
   "outputs": [],
   "source": [
    "# Your code here"
   ]
  },
  {
   "attachments": {},
   "cell_type": "markdown",
   "metadata": {},
   "source": [
    "*Your answer to my question in 2-4 sentences here*"
   ]
  },
  {
   "cell_type": "markdown",
   "metadata": {},
   "source": [
    "# Or!\n",
    "\n",
    "Perform a regression on your own data and/or perform at least one statistical measurement that makes sense with your data. Include a 2-4 sentence explanation for <b>what</b> the data represent, <b>why</b> you chose the statistical analysis, and <b>what</b> the interpretation of your statistics tell you about your system. <b>Please be sure to include the data if it lives in a separate file with your submission!</b>"
   ]
  },
  {
   "cell_type": "markdown",
   "metadata": {},
   "source": [
    "# Deliverables:\n",
    "- All paragraph answers provided\n",
    "- All extra plots provided\n",
    "- If applicable, your dataset and your analyses. "
   ]
  }
 ],
 "metadata": {
  "kernelspec": {
   "display_name": "geobasic",
   "language": "python",
   "name": "python3"
  },
  "language_info": {
   "codemirror_mode": {
    "name": "ipython",
    "version": 3
   },
   "file_extension": ".py",
   "mimetype": "text/x-python",
   "name": "python",
   "nbconvert_exporter": "python",
   "pygments_lexer": "ipython3",
   "version": "3.9.7"
  },
  "orig_nbformat": 4
 },
 "nbformat": 4,
 "nbformat_minor": 2
}
