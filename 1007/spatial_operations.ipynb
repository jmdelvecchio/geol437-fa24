{
 "cells": [
  {
   "cell_type": "code",
   "execution_count": 5,
   "metadata": {},
   "outputs": [],
   "source": [
    "import pandas as pd\n",
    "import geopandas as gpd\n",
    "import matplotlib.pyplot as plt\n",
    "import xyzservices"
   ]
  },
  {
   "cell_type": "markdown",
   "metadata": {},
   "source": [
    "I wrote a decent paper this year about drainage density in the Arctic, and I did a lot of hand-waving about permafrost thaw and erosion. But wouldn't it be good to <i>actually</i> see if places that are thawing (or thawing more quickly) have any different properties from those that aren't thawing as fast? To do that, I need to <b>identify sites where people observe the active laver <i>close to where I have drainage density data.</b></i>"
   ]
  },
  {
   "cell_type": "markdown",
   "metadata": {},
   "source": [
    "First let's load in those points from the pre-exercise!"
   ]
  },
  {
   "cell_type": "code",
   "execution_count": 3,
   "metadata": {},
   "outputs": [],
   "source": [
    "calm_gdf = gpd.read_file(\"CALM_points.shp\")"
   ]
  },
  {
   "cell_type": "markdown",
   "metadata": {},
   "source": [
    "Let's throw a fun \"`.explore()`\" call in, with a fun basemap!"
   ]
  },
  {
   "cell_type": "code",
   "execution_count": null,
   "metadata": {},
   "outputs": [],
   "source": [
    "tile = xyzservices.providers.Esri.WorldImagery()\n",
    "calm_gdf.explore(tiles=tile, column='Latitude', vmin=-2)"
   ]
  },
  {
   "cell_type": "markdown",
   "metadata": {},
   "source": [
    "Now, load in my data from the paper, which is in a nice machine-readable format on GitHub :)"
   ]
  },
  {
   "cell_type": "code",
   "execution_count": null,
   "metadata": {},
   "outputs": [],
   "source": [
    "sheds = pd.read_csv('https://raw.githubusercontent.com/jmdelvecchio/arctic-drainage-density/main/watershed_export.csv')\n",
    "\n",
    "sheds.head()"
   ]
  },
  {
   "cell_type": "markdown",
   "metadata": {},
   "source": [
    "## Task 1"
   ]
  },
  {
   "cell_type": "markdown",
   "metadata": {},
   "source": [
    "(1) Make a new `sheds_gdf` based on the conversion of a DataFrame into a GeoDataFrame as before, and (2) make a map of the points colored by drainage density with proper x and y labels and a colorbar. "
   ]
  },
  {
   "cell_type": "code",
   "execution_count": null,
   "metadata": {},
   "outputs": [],
   "source": [
    "sheds_gdf = "
   ]
  },
  {
   "cell_type": "markdown",
   "metadata": {},
   "source": [
    "# Spatial joins"
   ]
  },
  {
   "cell_type": "markdown",
   "metadata": {},
   "source": [
    "I want to know how many CALM observation sites are near watersheds for which I measured drainage density!\n",
    "\n",
    "First I'm going to make a new dataframe where I make a [`buffer`](https://geopandas.org/en/stable/docs/reference/api/geopandas.GeoSeries.buffer.html) around the CALM points. "
   ]
  },
  {
   "cell_type": "code",
   "execution_count": null,
   "metadata": {},
   "outputs": [],
   "source": [
    "# Chained functions allow me to convert the CALM data to something that has units in meters\n",
    "# And then create a 10 km buffer around the site\n",
    "# And then put it back to lat/long\n",
    "calm_gdf_buffer_geom = calm_gdf.to_crs('EPSG:3413').geometry.buffer(10000).to_crs('EPSG:4326')\n",
    "\n",
    "# Create a new GeoDataFrame whose geometry is the buffer rather than the point. \n",
    "calm_buffer = gpd.GeoDataFrame(calm_gdf.copy(), geometry=calm_gdf_buffer_geom)"
   ]
  },
  {
   "cell_type": "markdown",
   "metadata": {},
   "source": [
    "We're going to use the [sjoin](https://geopandas.org/en/stable/docs/reference/api/geopandas.sjoin.html) function to spatially intersect our CALM site buffer against the watershed centroid points to find **watersheds that are close to CALM sites**"
   ]
  },
  {
   "cell_type": "code",
   "execution_count": null,
   "metadata": {},
   "outputs": [],
   "source": [
    "join = gpd.sjoin(calm_buffer, sheds_gdf, how=\"inner\")\n",
    "\n",
    "join.head()"
   ]
  },
  {
   "cell_type": "markdown",
   "metadata": {},
   "source": [
    "## Task 2"
   ]
  },
  {
   "cell_type": "markdown",
   "metadata": {},
   "source": [
    "How many **CALM** sites are near *more than one watershed*?"
   ]
  },
  {
   "cell_type": "code",
   "execution_count": null,
   "metadata": {},
   "outputs": [],
   "source": [
    "# Your code here"
   ]
  },
  {
   "cell_type": "markdown",
   "metadata": {},
   "source": [
    "Create a **list** of HYBAS IDs of **watersheds near CALM sites**"
   ]
  },
  {
   "cell_type": "code",
   "execution_count": null,
   "metadata": {},
   "outputs": [],
   "source": [
    "# Your code here"
   ]
  },
  {
   "cell_type": "markdown",
   "metadata": {},
   "source": [
    "## Task 3"
   ]
  },
  {
   "cell_type": "markdown",
   "metadata": {},
   "source": [
    "Here are three cities in each of the three physiographic provinces from the pre-activity. Build a dictionary that assigns (1) the physiographic province and (2) elevation to each city (or make a new `geopandas` GeoDataFrame, whichever). Don't forget you can use `rasterio` and `geopandas` to [sample](https://rasterio.readthedocs.io/en/latest/api/rasterio.sample.html) point data."
   ]
  },
  {
   "cell_type": "code",
   "execution_count": 10,
   "metadata": {},
   "outputs": [],
   "source": [
    "cities = {}\n",
    "\n",
    "cities['Charlottesville'] = {'coordinates': [38.03200813945763, -78.48678715854092]}\n",
    "cities['Harrisonburg'] = {'coordinates':[38.45325449892778, -78.86822535859308]}\n",
    "cities['Waynesboro'] = {'coordinates': [38.063671393013514, -78.88561914039535]}"
   ]
  },
  {
   "cell_type": "markdown",
   "metadata": {},
   "source": [
    "## OR!"
   ]
  },
  {
   "cell_type": "markdown",
   "metadata": {},
   "source": [
    "Use your research data to make a map that uses (1) vector data, (2) raster data, and (3) extracts a value from your raster data to your point data and displays that somehow. "
   ]
  },
  {
   "cell_type": "markdown",
   "metadata": {},
   "source": [
    "# Deliverables:"
   ]
  },
  {
   "cell_type": "markdown",
   "metadata": {},
   "source": [
    "- All three tasks completed"
   ]
  }
 ],
 "metadata": {
  "kernelspec": {
   "display_name": "geobasic",
   "language": "python",
   "name": "python3"
  },
  "language_info": {
   "codemirror_mode": {
    "name": "ipython",
    "version": 3
   },
   "file_extension": ".py",
   "mimetype": "text/x-python",
   "name": "python",
   "nbconvert_exporter": "python",
   "pygments_lexer": "ipython3",
   "version": "3.9.7"
  }
 },
 "nbformat": 4,
 "nbformat_minor": 2
}
