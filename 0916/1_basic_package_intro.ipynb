{
 "cells": [
  {
   "cell_type": "markdown",
   "metadata": {},
   "source": [
    "# Data basics"
   ]
  },
  {
   "cell_type": "markdown",
   "metadata": {},
   "source": [
    "# Python and `numpy`"
   ]
  },
  {
   "cell_type": "markdown",
   "metadata": {},
   "source": [
    "Although there are **many** resources out there for Python and `numpy`, I will only direct you to a few:\n",
    "1. The [official documentation](https://docs.python.org/3/tutorial/index.html) is always a great resource, but may overwhelm a novice and includes aspects that will be less important for your first tasks. \n",
    "2. [Software Carpentry](https://swcarpentry.github.io/python-novice-inflammation/01-intro.html) provides an excellent introduction for novice coders interested in scientific applications. \n",
    "3. A data-science oriented [cheat sheet](https://www.datacamp.com/cheat-sheet/getting-started-with-python-cheat-sheet). \n",
    "\n",
    "To complete the following task, I recommend going *backwards* through these resources (try to use the cheat sheet, then Software Carpentry etc) and/or utilizing Google searches."
   ]
  },
  {
   "cell_type": "markdown",
   "metadata": {},
   "source": [
    "## Mini-assignment 0.5:"
   ]
  },
  {
   "cell_type": "markdown",
   "metadata": {},
   "source": [
    "Let's say I wrote down some climate data and I'm typing it up as a [list](https://docs.python.org/3/tutorial/datastructures.html), and I want to convert to Celcius"
   ]
  },
  {
   "cell_type": "code",
   "execution_count": null,
   "metadata": {},
   "outputs": [],
   "source": [
    "import numpy as np  # Import NumPy for data manipulation\n",
    "\n",
    "day = [1, 2, 3, 4, 5]\n",
    "temp = [60, 65, 68, 61, 58]\n",
    "humidity = [20, 25, 32, 28, 25]\n"
   ]
  },
  {
   "cell_type": "code",
   "execution_count": null,
   "metadata": {},
   "outputs": [],
   "source": [
    "temp_c = (temp - 32) * (5/9)"
   ]
  },
  {
   "cell_type": "markdown",
   "metadata": {},
   "source": [
    "Why doesn't this work?"
   ]
  },
  {
   "cell_type": "markdown",
   "metadata": {},
   "source": [
    "What if we convert our lists to [arrays](https://numpy.org/doc/stable/reference/generated/numpy.array.html)?"
   ]
  },
  {
   "cell_type": "code",
   "execution_count": null,
   "metadata": {},
   "outputs": [],
   "source": [
    "day_arr = np.array(day)\n",
    "\n",
    "# Continue the script so that you can perform the following conversion:\n",
    "\n",
    "temp_c = "
   ]
  },
  {
   "cell_type": "markdown",
   "metadata": {},
   "source": [
    "## Mini-assignment 1"
   ]
  },
  {
   "cell_type": "markdown",
   "metadata": {},
   "source": [
    "Print the **humidity** value that corresponds to the highest **temperature** value in one line of code. Do this once for the *list* version of the data and once for the *array* version of the data. "
   ]
  },
  {
   "cell_type": "code",
   "execution_count": null,
   "metadata": {},
   "outputs": [],
   "source": [
    "# Your code here"
   ]
  },
  {
   "cell_type": "markdown",
   "metadata": {},
   "source": [
    "# `pandas`"
   ]
  },
  {
   "cell_type": "markdown",
   "metadata": {},
   "source": [
    "`pandas` is an alternative to Excel for managing tabular data. An excellent introduction is [here](https://pandas.pydata.org/pandas-docs/stable/user_guide/10min.html)."
   ]
  },
  {
   "cell_type": "code",
   "execution_count": null,
   "metadata": {},
   "outputs": [],
   "source": [
    "import pandas as pd  # Import Pandas for data handling\n",
    "\n",
    "# Load temperature data from a CSV file\n",
    "\n",
    "# As long as this .csv file is in the current directory\n",
    "weather_data = pd.read_csv('williamsburg_meteo.csv')\n",
    "\n",
    "# Peek at the data and particularly the column names\n",
    "weather_data.head()"
   ]
  },
  {
   "cell_type": "markdown",
   "metadata": {},
   "source": [
    "We can create new columns and fill them with a single value or perform an opreation on a column:"
   ]
  },
  {
   "cell_type": "code",
   "execution_count": null,
   "metadata": {},
   "outputs": [],
   "source": [
    "weather_data['QC'] = 'good' # a pretend \"quality control column\"\n",
    "\n",
    "weather_data['datetime'] = pd.to_datetime(weather_data['DATE']) # the pd.to_datetime() just reads the dates as a specific type of data that plots well for time series\n",
    "\n",
    "weather_data['PRCP_cm'] = weather_data['PRCP'] * 2.54 # convert inches to centimeters\n",
    "\n",
    "weather_data.head()"
   ]
  },
  {
   "cell_type": "markdown",
   "metadata": {},
   "source": [
    "## Mini-assignment 2"
   ]
  },
  {
   "cell_type": "markdown",
   "metadata": {},
   "source": [
    "Precip and temperature data were originally given in imperial units. Create new columns where temperature values are given in the metric system (Celcius)."
   ]
  },
  {
   "cell_type": "code",
   "execution_count": null,
   "metadata": {},
   "outputs": [],
   "source": [
    "# your code here"
   ]
  },
  {
   "cell_type": "markdown",
   "metadata": {},
   "source": [
    "# Mini-assignment 3"
   ]
  },
  {
   "cell_type": "markdown",
   "metadata": {},
   "source": [
    "Print the **date** of the highest-recorded daily rainfall in the record (consult [the docs](https://pandas.pydata.org/docs/reference/frame.html#computations-descriptive-stats) or Google. Note you will have to look at the value of one column to get the value in another column)."
   ]
  },
  {
   "cell_type": "code",
   "execution_count": null,
   "metadata": {},
   "outputs": [],
   "source": [
    "# your code here"
   ]
  },
  {
   "cell_type": "markdown",
   "metadata": {},
   "source": [
    "# `matplotlib`"
   ]
  },
  {
   "cell_type": "markdown",
   "metadata": {},
   "source": [
    "`pyplot` is the basic plotting package for Python and strongly resembles that of MATLAB. Good introductions are [here](https://matplotlib.org/stable/tutorials/pyplot.html) and [here](https://matplotlib.org/stable/users/explain/quick_start.html). "
   ]
  },
  {
   "cell_type": "code",
   "execution_count": null,
   "metadata": {},
   "outputs": [],
   "source": [
    "import matplotlib.pyplot as plt  # Import matplotlib for plotting\n"
   ]
  },
  {
   "cell_type": "code",
   "execution_count": null,
   "metadata": {},
   "outputs": [],
   "source": [
    "# For ease, we will define separate variables as the columns in our DataFrame. \n",
    "\n",
    "date = weather_data['datetime']\n",
    "\n",
    "temperature = weather_data['TOBS'] "
   ]
  },
  {
   "cell_type": "markdown",
   "metadata": {},
   "source": [
    "We can now use the `plt` module we loaded to make a simple plot. You can always [read the docs](https://matplotlib.org/stable/api/_as_gen/matplotlib.pyplot.plot.html) to understand the arguments that plotting functions take. (And you *find* the docs by searching \"matplotlib [function]\")"
   ]
  },
  {
   "cell_type": "code",
   "execution_count": null,
   "metadata": {},
   "outputs": [],
   "source": [
    "plt.plot(date, temperature)"
   ]
  },
  {
   "cell_type": "markdown",
   "metadata": {},
   "source": [
    "## Mini-assignment 4"
   ]
  },
  {
   "cell_type": "markdown",
   "metadata": {},
   "source": [
    "Create a [scatter](https://matplotlib.org/stable/api/_as_gen/matplotlib.pyplot.scatter.html) plot of temperature over time with points colored by precipitation. Most plotting functions allow you to specify a `c` axis that colors certain datapoints to be a third data axis for data-rich plots. When you do that you'll want to add a [colorbar](https://matplotlib.org/stable/api/_as_gen/matplotlib.pyplot.colorbar.html) so your viewers know what they're looking at. \n",
    "\n",
    "I'll get you started:"
   ]
  },
  {
   "cell_type": "code",
   "execution_count": null,
   "metadata": {},
   "outputs": [],
   "source": [
    "# Specify the \"c\" keyword to add precipitation data as colors!\n",
    "plt.scatter(???, ???, c=???)\n",
    "\n",
    "\n",
    "# Call the \"colorbar()\" class to add a colorbar!\n",
    "plt.colorbar(label=\"precipitation\")\n",
    "\n",
    "# Set the title of the plot\n",
    "plt.title('??')\n",
    "\n",
    "# Label the x-axis\n",
    "plt.xlabel('??')\n",
    "\n",
    "# Label the y-axis\n",
    "plt.ylabel('???')"
   ]
  },
  {
   "cell_type": "markdown",
   "metadata": {},
   "source": [
    "## Using `plt.plot()`"
   ]
  },
  {
   "cell_type": "markdown",
   "metadata": {},
   "source": [
    "In Matplotlib, both plt.figure() and fig, ax = plt.subplots() are used to create figures for object-oriented plotting, but they have different use cases and behaviors:\n",
    "\n",
    "`plt.figure()`:\n",
    "\n",
    "- `plt.figure()` is used to create a single figure object, and it returns a reference to that figure. This figure can contain one or more subplots (Axes).\n",
    "\n",
    "- When you create plots using `plt.plot()`, `plt.scatter()`, etc., without explicitly specifying an Axes object, Matplotlib will automatically create an Axes within the current figure.\n",
    "\n",
    "- It is useful when you want to create a single plot without multiple subplots, and you are not concerned about creating multiple axes explicitly.\n",
    "\n",
    "Here, we will create a `figure` object"
   ]
  },
  {
   "cell_type": "code",
   "execution_count": null,
   "metadata": {},
   "outputs": [],
   "source": [
    "# Create a figure with a specific size (10x6 inches)\n",
    "plt.figure(figsize=(10, 6))\n",
    "\n",
    "# Create a line plot using time on the x-axis and temperature on the y-axis\n",
    "# Customize the plot with blue color, circular markers, solid lines, and marker size\n",
    "plt.plot(date, temperature, color='blue', marker='o', linestyle='-', markersize=4)\n",
    "\n",
    "# Set the title of the plot\n",
    "plt.title('Temperature Over Time')\n",
    "\n",
    "# Label the x-axis\n",
    "plt.xlabel('Time')\n",
    "\n",
    "# Label the y-axis\n",
    "plt.ylabel('Temperature (°C)')\n"
   ]
  },
  {
   "cell_type": "markdown",
   "metadata": {},
   "source": [
    "Note we can do things like [set the limits of axes](https://matplotlib.org/stable/api/_as_gen/matplotlib.pyplot.ylim.html):"
   ]
  },
  {
   "cell_type": "code",
   "execution_count": null,
   "metadata": {},
   "outputs": [],
   "source": [
    "# Create a figure with a specific size (10x6 inches)\n",
    "plt.figure(figsize=(10, 6))\n",
    "\n",
    "# Create a line plot using time on the x-axis and temperature on the y-axis\n",
    "# Customize the plot with blue color, circular markers, solid lines, and marker size\n",
    "plt.plot(date, temperature, color='blue', marker='o', linestyle='-', markersize=4)\n",
    "\n",
    "# Set the title of the plot\n",
    "plt.title('Temperature Over Time')\n",
    "\n",
    "# Label the x-axis\n",
    "plt.xlabel('Time')\n",
    "\n",
    "# Set axis limits from 0 to 100\n",
    "plt.ylim(0, 100)\n",
    "\n",
    "# Label the y-axis\n",
    "plt.ylabel('Temperature (°C)')"
   ]
  },
  {
   "cell_type": "markdown",
   "metadata": {},
   "source": [
    "## Using `ax` objects"
   ]
  },
  {
   "cell_type": "markdown",
   "metadata": {},
   "source": [
    "In contrast, we can use `fig, ax = plt.subplots()`:\n",
    "\n",
    "- Multiple Subplots: `plt.subplots()` is used to create a figure (Fig) and one or more subplots (Axes) within that figure. It returns both the figure and an array of Axes objects.\n",
    "\n",
    "- Explicit Axes: You explicitly create and specify the Axes objects when using `fig, ax = plt.subplots()`. This allows you to have more control over the placement and arrangement of subplots.\n",
    "\n",
    "- Usage: It is useful when you need to create multiple subplots within a single figure, such as creating a grid of plots.\n",
    "\n",
    "A main difference is that the syntax for customizing `ax` objects will often include \"`set_`\" as in `set_xlabel()` as opposed to just `plt.xlabel()`\n",
    "\n",
    "But you don't need to create multiple plots if you don't want to:"
   ]
  },
  {
   "cell_type": "code",
   "execution_count": null,
   "metadata": {},
   "outputs": [],
   "source": [
    "# Create a fig and ax object\n",
    "fig, ax = plt.subplots(figsize=(10, 6))\n",
    "\n",
    "# Plot something on the ax object\n",
    "ax.plot(date, temperature, color='blue', marker='o', linestyle='-', markersize=4)\n",
    "\n",
    "# Set the title of the axis\n",
    "ax.set_title('Temperature Over Time')\n",
    "\n",
    "# Label the x-axis\n",
    "ax.set_xlabel('Time')\n",
    "\n",
    "# Label the y-axis\n",
    "ax.set_ylabel('Temperature (°C)')\n"
   ]
  },
  {
   "cell_type": "markdown",
   "metadata": {},
   "source": [
    "## Mini-assignment 5"
   ]
  },
  {
   "cell_type": "markdown",
   "metadata": {},
   "source": [
    "Make two separate plots for the highest daily temperature and the lowest daily temperature. "
   ]
  },
  {
   "cell_type": "code",
   "execution_count": null,
   "metadata": {},
   "outputs": [],
   "source": [
    "high_temp = ???\n",
    "\n",
    "low_temp = ???\n",
    "\n",
    "#Create a fig and ax object\n",
    "fig, ax = plt.subplots(1,2, figsize=(10,6), sharey=True)\n",
    "\n",
    "# Now you have an ax object that has two objects in it\n",
    "# ax[0] is the zeroeth (first) element, ax[1] is the first element, etc. \n",
    "\n",
    "# Plot something on the ax object\n",
    "ax[0].plot(date, high_temp,  color='???', marker='o', linestyle='-', markersize=4)\n",
    "\n",
    "# Plot something on the ax object\n",
    "ax[1].plot(date, low_temp,  color='???', marker='o', linestyle='-', markersize=4)\n",
    "\n",
    "# # Set the title of the axis\n",
    "# ax.set_title('Temperature Over Time')\n",
    "\n",
    "# # Label the x-axes\n",
    "# ax.set_xlabel('Time')\n",
    "\n",
    "# # Label the y-axis\n",
    "# ax.set_ylabel('Temperature (°C)')\n"
   ]
  },
  {
   "cell_type": "code",
   "execution_count": null,
   "metadata": {},
   "outputs": [],
   "source": [
    "# Note that they can be displayed on the same plot\n",
    "# It just depends on what you want to show\n",
    "\n",
    "# Create a fig and ax object\n",
    "fig, ax = plt.subplots(figsize=(10, 6))\n",
    "\n",
    "# Plot something on the ax object\n",
    "ax.plot(date, high_temp, color='???', marker='o', linestyle='-', markersize=4)\n",
    "ax.plot(date, low_temp, color='???', marker='o', linestyle='-', markersize=4)"
   ]
  },
  {
   "cell_type": "markdown",
   "metadata": {},
   "source": [
    "## Using `pandas`' built-in plotting functions"
   ]
  },
  {
   "cell_type": "markdown",
   "metadata": {},
   "source": [
    "`pandas` actually has its own [plotting functions](https://pandas.pydata.org/docs/reference/api/pandas.DataFrame.plot.html) that use a slightly different syntax for quick visualization of data.\n",
    "\n",
    "You can see below that the syntax is `[name of the data frame].plot.[type of plot]` for something like a [scatterplot](https://pandas.pydata.org/docs/reference/api/pandas.DataFrame.plot.scatter.html)."
   ]
  },
  {
   "cell_type": "code",
   "execution_count": null,
   "metadata": {},
   "outputs": [],
   "source": [
    "# Use the built-in plot() function to create a line plot\n",
    "weather_data.plot.scatter(x='datetime', y='TMAX', c='TMIN', title='Example Plot', marker='o', cmap='viridis')"
   ]
  },
  {
   "cell_type": "markdown",
   "metadata": {},
   "source": [
    "You can specify the `ax` object to plot on for maximum customization of axes!"
   ]
  },
  {
   "cell_type": "code",
   "execution_count": null,
   "metadata": {},
   "outputs": [],
   "source": [
    "# Create a fig and ax object\n",
    "fig, ax = plt.subplots(figsize=(10, 6))\n",
    "\n",
    "# Use the built-in plot() function to create a line plot\n",
    "weather_data.plot.scatter(x='datetime', y='TMAX', c='TMIN', title='Example Plot', marker='o', cmap='viridis', ax=ax)\n",
    "\n",
    "ax.set_ylim(0, 100)\n",
    "\n",
    "ax.set_ylabel('Maximum temp (F)')\n",
    "\n",
    "ax.set_xlabel('Date')"
   ]
  },
  {
   "cell_type": "markdown",
   "metadata": {},
   "source": [
    "## Mini-assignment 6"
   ]
  },
  {
   "cell_type": "markdown",
   "metadata": {},
   "source": [
    "Bringing all your knowledge together, create a visual that shows both a line plot (which cannot be colored by another variable) and a scatter plot (which can be colored) that shows some data. "
   ]
  },
  {
   "cell_type": "code",
   "execution_count": null,
   "metadata": {},
   "outputs": [],
   "source": [
    "# Create a fig and ax object\n",
    "fig, ax = plt.subplots(figsize=(10, 6))\n",
    "\n",
    "# Plot something on the ax object\n",
    "# zorder tells the program what order to plot objects in\n",
    "ax.plot(date, ???, color='???', linestyle='-', zorder=0)\n",
    "\n",
    "# One way to do it is to name a variable the ax object's plot\n",
    "# I am also specifying a \"vmin\" and \"vmax\" which are the maximum and minimum values for the colorbar\n",
    "scatterplot = ax.scatter(date, ???, c=???, marker='o', linestyle='-',\n",
    "                         vmin=???, \n",
    "                          vmax=???,\n",
    "                            zorder=1)\n",
    "\n",
    "# Customize the colorbar by specifying the variable name for the axis object\n",
    "colorbar = plt.colorbar(scatterplot, ax=ax)\n",
    "colorbar.set_label('???')  # Set the label for the colorbar\n",
    "\n",
    "ax.set_ylabel('???')\n",
    "\n",
    "ax.set_xlabel('???')\n"
   ]
  }
 ],
 "metadata": {
  "kernelspec": {
   "display_name": "bog_ms",
   "language": "python",
   "name": "python3"
  },
  "language_info": {
   "codemirror_mode": {
    "name": "ipython",
    "version": 3
   },
   "file_extension": ".py",
   "mimetype": "text/x-python",
   "name": "python",
   "nbconvert_exporter": "python",
   "pygments_lexer": "ipython3",
   "version": "3.11.0"
  }
 },
 "nbformat": 4,
 "nbformat_minor": 2
}
