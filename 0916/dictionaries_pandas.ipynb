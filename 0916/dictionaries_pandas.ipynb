{
 "cells": [
  {
   "cell_type": "markdown",
   "metadata": {},
   "source": [
    "# Dictionaries, but mostly `pandas`"
   ]
  },
  {
   "cell_type": "markdown",
   "metadata": {},
   "source": [
    "`pandas` is an alternative to Excel for managing tabular data. An excellent introduction is [here](https://pandas.pydata.org/pandas-docs/stable/user_guide/10min.html).\n",
    "\n",
    "The two ways you might turn data from something that is not a dataframe into something that is a dataframe is probably either (1) turning a dictionary into a dataframe or (2) loading a delimited text file into pandas"
   ]
  },
  {
   "cell_type": "markdown",
   "metadata": {},
   "source": [
    "# Dataframes from dictionaries"
   ]
  },
  {
   "cell_type": "markdown",
   "metadata": {},
   "source": [
    "## But what's a dictionary?"
   ]
  },
  {
   "cell_type": "markdown",
   "metadata": {},
   "source": [
    "Remember from two weeks ago that [dictionaries](https://docs.python.org/3/tutorial/datastructures.html#dictionaries) (`dict`) are used for holding metadata attributes (e.g., instrument specifications, geographic coordinates) associated with environmental measurements. They also are used for organizing and accessing information, such as referencing a list of properties of data point by its name.\n",
    "\n",
    "Let us return to that fake weather data:"
   ]
  },
  {
   "cell_type": "code",
   "execution_count": null,
   "metadata": {},
   "outputs": [],
   "source": [
    "day = [1, 2, 3, 4, 5]\n",
    "temp = [60, 65, 68, 61, 58]\n",
    "humidity = [20, 25, 32, 28, 25]"
   ]
  },
  {
   "cell_type": "markdown",
   "metadata": {},
   "source": [
    "If we wanted to store these lists of numbers in a dictionary, you would (1) create a dictionary, (2) create keys for the dictionary (e.g. `'day'`), and (3) assign values to those keys"
   ]
  },
  {
   "cell_type": "code",
   "execution_count": null,
   "metadata": {},
   "outputs": [],
   "source": [
    "site_data = {}\n",
    "\n",
    "site_data['day'] = day\n",
    "site_data['temp'] = temp\n",
    "site_data['humidity'] = humidity\n",
    "\n",
    "site_data\n"
   ]
  },
  {
   "cell_type": "markdown",
   "metadata": {},
   "source": [
    "The most important thing you need to know right now about dictionaries is that every key has to be unique, and there is nothing ordered to a dictionary (e.g. unlike being able to access the 2nd or 3rd element in a list or array, you cannot access the 2nd or 3rd key in a dictionary - you have to give it a key)."
   ]
  },
  {
   "cell_type": "markdown",
   "metadata": {},
   "source": [
    "## Example dictionary to pandas DataFrame"
   ]
  },
  {
   "cell_type": "code",
   "execution_count": null,
   "metadata": {},
   "outputs": [],
   "source": [
    "import pandas as pd"
   ]
  },
  {
   "cell_type": "code",
   "execution_count": null,
   "metadata": {},
   "outputs": [],
   "source": [
    "pd.DataFrame.from_dict(site_data, orient='columns')"
   ]
  },
  {
   "cell_type": "markdown",
   "metadata": {},
   "source": [
    "Pandas knows to take your data and make the dictionary keys the names of columns in a DataFrame. Great!"
   ]
  },
  {
   "cell_type": "markdown",
   "metadata": {},
   "source": [
    "# Pandas from delimited data"
   ]
  },
  {
   "cell_type": "code",
   "execution_count": null,
   "metadata": {},
   "outputs": [],
   "source": [
    "# Load temperature data from a CSV file\n",
    "\n",
    "# I'm using the two dots before the 0909 folder to say \"Hey, go up a directory to find 0909\"\n",
    "weather_data = pd.read_csv('../0909/williamsburg_meteo.csv')\n",
    "\n",
    "# Peek at the data and particularly the column names\n",
    "weather_data.head()"
   ]
  },
  {
   "cell_type": "markdown",
   "metadata": {},
   "source": [
    "We can create new columns and fill them with a single value or perform an opreation on a column:"
   ]
  },
  {
   "cell_type": "code",
   "execution_count": null,
   "metadata": {},
   "outputs": [],
   "source": [
    "weather_data['QC'] = 'good' # a pretend \"quality control column\"\n",
    "\n",
    "weather_data['datetime'] = pd.to_datetime(weather_data['DATE']) # the pd.to_datetime() just reads the dates as a specific type of data that plots well for time series\n",
    "\n",
    "weather_data['PRCP_cm'] = weather_data['PRCP'] * 2.54 # convert inches to centimeters\n",
    "\n",
    "weather_data.head()"
   ]
  },
  {
   "cell_type": "markdown",
   "metadata": {},
   "source": [
    "## Mini-assignment 1"
   ]
  },
  {
   "cell_type": "markdown",
   "metadata": {},
   "source": [
    "Precip and temperature data were originally given in imperial units. Create new columns where temperature values are given in the metric system (Celcius)."
   ]
  },
  {
   "cell_type": "code",
   "execution_count": null,
   "metadata": {},
   "outputs": [],
   "source": [
    "# your code here"
   ]
  },
  {
   "cell_type": "markdown",
   "metadata": {},
   "source": [
    "## Mini-assignment 2"
   ]
  },
  {
   "cell_type": "markdown",
   "metadata": {},
   "source": [
    "Print the **date** of the highest-recorded daily rainfall in the record (consult [the docs](https://pandas.pydata.org/docs/reference/frame.html#computations-descriptive-stats) or Google. Note you will have to look at the value of one column to get the value in another column)."
   ]
  },
  {
   "cell_type": "code",
   "execution_count": null,
   "metadata": {},
   "outputs": [],
   "source": [
    "# your code here"
   ]
  },
  {
   "cell_type": "markdown",
   "metadata": {},
   "source": [
    "# `pandas` and `matplotlib`"
   ]
  },
  {
   "cell_type": "markdown",
   "metadata": {},
   "source": [
    "Like in Excel, data organization is only half the fun - we want to make plots too!"
   ]
  },
  {
   "cell_type": "code",
   "execution_count": null,
   "metadata": {},
   "outputs": [],
   "source": [
    "import matplotlib.pyplot as plt"
   ]
  },
  {
   "cell_type": "markdown",
   "metadata": {},
   "source": [
    "## Mini-assignment 3"
   ]
  },
  {
   "cell_type": "markdown",
   "metadata": {},
   "source": [
    "Remembering all your `matplotlib` lessons from last week, make two separate plots for the highest daily temperature and the lowest daily temperature. "
   ]
  },
  {
   "cell_type": "code",
   "execution_count": null,
   "metadata": {},
   "outputs": [],
   "source": [
    "high_temp = ???\n",
    "\n",
    "low_temp = ???\n",
    "\n",
    "#Create a fig and ax object\n",
    "fig, ax = plt.subplots(1,2, figsize=(10,6), sharey=True)\n",
    "\n",
    "# Now you have an ax object that has two objects in it\n",
    "# ax[0] is the zeroeth (first) element, ax[1] is the first element, etc. \n",
    "\n",
    "# Plot something on the ax object\n",
    "ax[0].plot(date, high_temp,  color='???', marker='o', linestyle='-', markersize=4)\n",
    "\n",
    "# Plot something on the ax object\n",
    "ax[1].plot(date, low_temp,  color='???', marker='o', linestyle='-', markersize=4)\n",
    "\n",
    "# # Set the title of the axis\n",
    "# ax.set_title('Temperature Over Time')\n",
    "\n",
    "# # Label the x-axes\n",
    "# ax.set_xlabel('Time')\n",
    "\n",
    "# # Label the y-axis\n",
    "# ax.set_ylabel('Temperature (°C)')\n"
   ]
  },
  {
   "cell_type": "code",
   "execution_count": null,
   "metadata": {},
   "outputs": [],
   "source": [
    "# Note that they can be displayed on the same plot\n",
    "# It just depends on what you want to show\n",
    "\n",
    "# Create a fig and ax object\n",
    "fig, ax = plt.subplots(figsize=(10, 6))\n",
    "\n",
    "# Plot something on the ax object\n",
    "ax.plot(date, high_temp, color='???', marker='o', linestyle='-', markersize=4)\n",
    "ax.plot(date, low_temp, color='???', marker='o', linestyle='-', markersize=4)"
   ]
  },
  {
   "cell_type": "markdown",
   "metadata": {},
   "source": [
    "## Using `pandas`' built-in plotting functions"
   ]
  },
  {
   "cell_type": "markdown",
   "metadata": {},
   "source": [
    "`pandas` actually has its own [plotting functions](https://pandas.pydata.org/docs/reference/api/pandas.DataFrame.plot.html) that use a slightly different syntax for quick visualization of data.\n",
    "\n",
    "You can see below that the syntax is `[name of the data frame].plot.[type of plot]` for something like a [scatterplot](https://pandas.pydata.org/docs/reference/api/pandas.DataFrame.plot.scatter.html)."
   ]
  },
  {
   "cell_type": "code",
   "execution_count": null,
   "metadata": {},
   "outputs": [],
   "source": [
    "# Use the built-in plot() function to create a line plot\n",
    "weather_data.plot.scatter(x='datetime', y='TMAX', c='TMIN', title='Example Plot', marker='o', cmap='viridis')"
   ]
  },
  {
   "cell_type": "markdown",
   "metadata": {},
   "source": [
    "You can specify the `ax` object to plot on for maximum customization of axes!"
   ]
  },
  {
   "cell_type": "code",
   "execution_count": null,
   "metadata": {},
   "outputs": [],
   "source": [
    "# Create a fig and ax object\n",
    "fig, ax = plt.subplots(figsize=(10, 6))\n",
    "\n",
    "# Use the built-in plot() function to create a line plot\n",
    "weather_data.plot.scatter(x='datetime', y='TMAX', c='TMIN', title='Example Plot', marker='o', cmap='viridis', ax=ax)\n",
    "\n",
    "ax.set_ylim(0, 100)\n",
    "\n",
    "ax.set_ylabel('Maximum temp (F)')\n",
    "\n",
    "ax.set_xlabel('Date')"
   ]
  },
  {
   "cell_type": "markdown",
   "metadata": {},
   "source": [
    "## Mini-assignment 4"
   ]
  },
  {
   "cell_type": "markdown",
   "metadata": {},
   "source": [
    "Bringing all your knowledge together, create a visual that shows both a line plot (which cannot be colored by another variable) and a scatter plot (which can be colored) that shows some data. "
   ]
  },
  {
   "cell_type": "code",
   "execution_count": null,
   "metadata": {},
   "outputs": [],
   "source": [
    "# Create a fig and ax object\n",
    "fig, ax = plt.subplots(figsize=(10, 6))\n",
    "\n",
    "# Plot something on the ax object\n",
    "# zorder tells the program what order to plot objects in\n",
    "ax.plot(date, ???, color='???', linestyle='-', zorder=0)\n",
    "\n",
    "# One way to do it is to name a variable the ax object's plot\n",
    "# I am also specifying a \"vmin\" and \"vmax\" which are the maximum and minimum values for the colorbar\n",
    "scatterplot = ax.scatter(date, ???, c=???, marker='o', linestyle='-',\n",
    "                         vmin=???, \n",
    "                          vmax=???,\n",
    "                            zorder=1)\n",
    "\n",
    "# Customize the colorbar by specifying the variable name for the axis object\n",
    "colorbar = plt.colorbar(scatterplot, ax=ax)\n",
    "colorbar.set_label('???')  # Set the label for the colorbar\n",
    "\n",
    "ax.set_ylabel('???')\n",
    "\n",
    "ax.set_xlabel('???')\n"
   ]
  }
 ],
 "metadata": {
  "kernelspec": {
   "display_name": "bog_ms",
   "language": "python",
   "name": "python3"
  },
  "language_info": {
   "codemirror_mode": {
    "name": "ipython",
    "version": 3
   },
   "file_extension": ".py",
   "mimetype": "text/x-python",
   "name": "python",
   "nbconvert_exporter": "python",
   "pygments_lexer": "ipython3",
   "version": "3.9.18"
  }
 },
 "nbformat": 4,
 "nbformat_minor": 2
}
